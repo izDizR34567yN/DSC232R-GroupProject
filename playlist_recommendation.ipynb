{
  "nbformat": 4,
  "nbformat_minor": 0,
  "metadata": {
    "colab": {
      "provenance": [],
      "machine_shape": "hm",
      "gpuType": "V28"
    },
    "kernelspec": {
      "name": "python3",
      "display_name": "Python 3"
    },
    "language_info": {
      "name": "python"
    },
    "accelerator": "TPU"
  },
  "cells": [
    {
      "cell_type": "code",
      "source": [
        "%%bash\n",
        "   export JAVA_OPTS=\"-Xmx128g\""
      ],
      "metadata": {
        "id": "UKt4WSILHNoU"
      },
      "execution_count": 1,
      "outputs": []
    },
    {
      "cell_type": "code",
      "source": [
        "!pip install pyspark"
      ],
      "metadata": {
        "colab": {
          "base_uri": "https://localhost:8080/"
        },
        "id": "pi3HlXG7Lvue",
        "outputId": "f0043508-dac3-4786-a91d-c0275d23ba99"
      },
      "execution_count": 2,
      "outputs": [
        {
          "output_type": "stream",
          "name": "stdout",
          "text": [
            "Requirement already satisfied: pyspark in /usr/local/lib/python3.10/dist-packages (3.5.1)\n",
            "Requirement already satisfied: py4j==0.10.9.7 in /usr/local/lib/python3.10/dist-packages (from pyspark) (0.10.9.7)\n"
          ]
        }
      ]
    },
    {
      "cell_type": "code",
      "source": [
        "# Imports\n",
        "import os\n",
        "from pyspark.sql import SparkSession\n",
        "from pyspark.sql.functions import col, avg, rand\n",
        "from pyspark.ml.feature import VectorAssembler, StandardScaler\n",
        "from pyspark.ml.clustering import KMeans"
      ],
      "metadata": {
        "id": "uUcuubPRIPUq"
      },
      "execution_count": 3,
      "outputs": []
    },
    {
      "cell_type": "code",
      "execution_count": 4,
      "metadata": {
        "id": "q7JEZIABPyBt"
      },
      "outputs": [],
      "source": [
        "# This cell checks if the file merged_data.csv exists in the current directory.\n",
        "# If it doesn't, it installs the kaggle package, downloads the Spotify dataset\n",
        "# from Kaggle, and unzips the downloaded file.\n",
        "\n",
        "file_exists = os.path.exists('merged_data.csv')\n",
        "\n",
        "if not file_exists:\n",
        "    !pip install kaggle\n",
        "    !kaggle datasets download -d sunnykakar/spotify-charts-all-audio-data\n",
        "    !unzip spotify-charts-all-audio-data.zip"
      ]
    },
    {
      "cell_type": "code",
      "source": [
        "# Initialize SparkSession\n",
        "print(\"Initializing Spark Session...\")\n",
        "spark = SparkSession.builder \\\n",
        "    .appName(\"FeatureSelectionClustering\") \\\n",
        "    .config(\"spark.executor.memory\", \"16g\") \\\n",
        "    .config(\"spark.driver.memory\", \"16g\") \\\n",
        "    .config(\"spark.driver.maxResultSize\", \"4g\") \\\n",
        "    .getOrCreate()\n",
        "print(\"Spark Session initialized.\")\n",
        "\n",
        "# Load dataset\n",
        "print(\"Loading dataset...\")\n",
        "df = spark.read.csv('merged_data.csv', header=True, inferSchema=True)\n",
        "print(\"Dataset loaded.\")\n",
        "\n",
        "# Rename _c0 Column\n",
        "df = df.withColumnRenamed('_c0', 'ID')\n",
        "\n",
        "# Audio features\n",
        "audio_features = [\n",
        "    'af_danceability', 'af_energy', 'af_key', 'af_loudness', 'af_mode', 'af_speechiness',\n",
        "    'af_acousticness', 'af_instrumentalness', 'af_liveness', 'af_valence', 'af_tempo', 'af_time_signature'\n",
        "]\n",
        "\n",
        "# Handle missing values and cast columns to float\n",
        "print(\"Handling missing values and casting columns to float...\")\n",
        "for feature in audio_features:\n",
        "    mean_value = df.select(avg(col(feature))).first()[0]\n",
        "    df = df.fillna({feature: mean_value})\n",
        "    df = df.withColumn(feature, col(feature).cast('float'))\n",
        "\n",
        "df = df.dropna()\n",
        "\n",
        "# Assemble features into a single vector\n",
        "print(\"Assembling features into a single vector...\")\n",
        "assembler = VectorAssembler(inputCols=audio_features, outputCol=\"features\")\n",
        "df = assembler.transform(df)\n",
        "\n",
        "# Scale the features\n",
        "print(\"Scaling the features...\")\n",
        "scaler = StandardScaler(inputCol=\"features\", outputCol=\"scaledFeatures\")\n",
        "scaler_model = scaler.fit(df)\n",
        "df = scaler_model.transform(df)\n"
      ],
      "metadata": {
        "colab": {
          "base_uri": "https://localhost:8080/"
        },
        "id": "e4gs0v_1xuBQ",
        "outputId": "a477e376-cda7-4541-8908-36afef9bca3e"
      },
      "execution_count": 5,
      "outputs": [
        {
          "output_type": "stream",
          "name": "stdout",
          "text": [
            "Initializing Spark Session...\n",
            "Spark Session initialized.\n",
            "Loading dataset...\n",
            "Dataset loaded.\n",
            "Handling missing values and casting columns to float...\n",
            "Assembling features into a single vector...\n",
            "Scaling the features...\n"
          ]
        }
      ]
    },
    {
      "cell_type": "code",
      "source": [
        "# Train KMeans model with k=7\n",
        "print(\"Training KMeans model with k=7...\")\n",
        "kmeans = KMeans(featuresCol=\"scaledFeatures\", k=7, seed=1)\n",
        "kmeans_model = kmeans.fit(df)\n",
        "df = kmeans_model.transform(df)\n",
        "print(\"model trained.\")"
      ],
      "metadata": {
        "colab": {
          "base_uri": "https://localhost:8080/"
        },
        "id": "lCq7kCiE9OCQ",
        "outputId": "3c5c476d-1272-4fc4-892d-ee7859470cec"
      },
      "execution_count": 6,
      "outputs": [
        {
          "output_type": "stream",
          "name": "stdout",
          "text": [
            "Training KMeans model with k=7...\n",
            "model trained.\n"
          ]
        }
      ]
    },
    {
      "cell_type": "code",
      "source": [
        "# Show 5 random songs\n",
        "print(\"Showing 5 random songs:\")\n",
        "random_songs = df.select(\"title\", \"artist\", \"album\").orderBy(rand()).limit(5)\n",
        "random_songs.show(truncate=False)\n",
        "\n",
        "# Ask the user to choose a song\n",
        "song_choices = random_songs.collect()\n",
        "print(\"Choose a song by entering the corresponding number:\")\n",
        "for i, row in enumerate(song_choices):\n",
        "    print(f\"{i+1}: {row['title']} by {row['artist']} from the album {row['album']}\")\n",
        "\n",
        "choice = int(input(\"Enter the number of the song you choose: \")) - 1\n",
        "chosen_song = song_choices[choice]"
      ],
      "metadata": {
        "colab": {
          "base_uri": "https://localhost:8080/"
        },
        "id": "QOIVgp0z9dcQ",
        "outputId": "f6d0fd7a-0d0a-48dd-c056-c31d38771ee6"
      },
      "execution_count": 7,
      "outputs": [
        {
          "name": "stdout",
          "output_type": "stream",
          "text": [
            "Showing 5 random songs:\n",
            "+----------------------------------------------+-------------------+------------------------+\n",
            "|title                                         |artist             |album                   |\n",
            "+----------------------------------------------+-------------------+------------------------+\n",
            "|Старшие (feat. Polyana)                       |OG Buda            |FREERIO                 |\n",
            "|Freaky                                        |Tory Lanez         |Freaky                  |\n",
            "|Meant to Be (feat. Florida Georgia Line)      |Bebe Rexha         |All Your Fault: Pt. 2   |\n",
            "|Leave Before You Love Me (with Jonas Brothers)|Marshmello         |Leave Before You Love Me|\n",
            "|CROWN                                         |TOMORROW X TOGETHER|The Dream Chapter: STAR |\n",
            "+----------------------------------------------+-------------------+------------------------+\n",
            "\n",
            "Choose a song by entering the corresponding number:\n",
            "1: Старшие (feat. Polyana) by OG Buda from the album FREERIO\n",
            "2: Freaky by Tory Lanez from the album Freaky\n",
            "3: Meant to Be (feat. Florida Georgia Line) by Bebe Rexha from the album All Your Fault: Pt. 2\n",
            "4: Leave Before You Love Me (with Jonas Brothers) by Marshmello from the album Leave Before You Love Me\n",
            "5: CROWN by TOMORROW X TOGETHER from the album The Dream Chapter: STAR\n",
            "Enter the number of the song you choose: 4\n"
          ]
        }
      ]
    },
    {
      "cell_type": "code",
      "source": [
        "# Get the cluster of the chosen song\n",
        "chosen_cluster = df.filter((col(\"title\") == chosen_song[\"title\"]) &\n",
        "                           (col(\"artist\") == chosen_song[\"artist\"]) &\n",
        "                           (col(\"album\") == chosen_song[\"album\"])) \\\n",
        "                   .select(\"prediction\").collect()[0][0]\n",
        "\n",
        "# Show 12 songs from the same cluster\n",
        "print(f\"Recommended playlist based on your choice of '{chosen_song['title']}' by {chosen_song['artist']}:\")\n",
        "recommended_songs = df.filter(col(\"prediction\") == chosen_cluster).select(\"title\", \"artist\", \"album\").limit(12)\n",
        "recommended_songs.show(truncate=False)"
      ],
      "metadata": {
        "colab": {
          "base_uri": "https://localhost:8080/"
        },
        "id": "sAbB9kRl9iDG",
        "outputId": "2eecbfdb-7137-4a70-e90a-d470cbaf40d8"
      },
      "execution_count": 8,
      "outputs": [
        {
          "output_type": "stream",
          "name": "stdout",
          "text": [
            "Recommended playlist based on your choice of 'Leave Before You Love Me (with Jonas Brothers)' by Marshmello:\n",
            "+--------------------------------------------------------------------------------+---------------------------+------------------------------------------------------------------+\n",
            "|title                                                                           |artist                     |album                                                             |\n",
            "+--------------------------------------------------------------------------------+---------------------------+------------------------------------------------------------------+\n",
            "|Traicionera                                                                     |Sebastian Yatra            |Traicionera                                                       |\n",
            "|Dile Que Tu Me Quieres                                                          |Ozuna                      |Dile Que Tu Me Quieres                                            |\n",
            "|Andas En Mi Cabeza                                                              |Chino & Nacho, Daddy Yankee|Andas En Mi Cabeza                                                |\n",
            "|Let Me Love You                                                                 |DJ Snake, Justin Bieber    |Encore                                                            |\n",
            "|Llamame Mas Temprano                                                            |Mano Arriba                |Llamame Mas Temprano / Hicimos un Pacto - Single                  |\n",
            "|Manicomio                                                                       |Cosculluela                |Blanco Perla                                                      |\n",
            "|Don't Wanna Know                                                                |Maroon 5, Kendrick Lamar   |Don't Wanna Know                                                  |\n",
            "|24K Magic                                                                       |Bruno Mars                 |24K Magic                                                         |\n",
            "|\"CAN'T STOP THE FEELING! (Original Song from DreamWorks Animation's \"\"TROLLS\"\")\"|Justin Timberlake          |\"CAN'T STOP THE FEELING! (from DreamWorks Animation's \"\"TROLLS\"\")\"|\n",
            "|Fuego                                                                           |Juanes                     |Mis Planes Son Amarte                                             |\n",
            "|Bobo                                                                            |J Balvin                   |Energía                                                           |\n",
            "|Tu Ritmo                                                                        |Los Bonnitos               |Tu Ritmo                                                          |\n",
            "+--------------------------------------------------------------------------------+---------------------------+------------------------------------------------------------------+\n",
            "\n"
          ]
        }
      ]
    }
  ]
}