{
  "cells": [
    {
      "cell_type": "code",
      "execution_count": 1,
      "metadata": {
        "id": "O7NzEq7MpIBz"
      },
      "outputs": [],
      "source": [
        "%%bash\n",
        "   export JAVA_OPTS=\"-Xmx8g\""
      ]
    },
    {
      "cell_type": "code",
      "execution_count": 2,
      "metadata": {
        "colab": {
          "base_uri": "https://localhost:8080/"
        },
        "id": "pyoWiSW0DAep",
        "outputId": "2ea4e1e2-7468-4805-c826-2e884a8a3b7d"
      },
      "outputs": [
        {
          "output_type": "stream",
          "name": "stdout",
          "text": [
            "[Global flags]\n",
            "      int ActiveProcessorCount                     = -1                                        {product} {default}\n",
            "    uintx AdaptiveSizeDecrementScaleFactor         = 4                                         {product} {default}\n",
            "    uintx AdaptiveSizeMajorGCDecayTimeScale        = 10                                        {product} {default}\n",
            "    uintx AdaptiveSizePolicyCollectionCostMargin   = 50                                        {product} {default}\n",
            "    uintx AdaptiveSizePolicyInitializingSteps      = 20                                        {product} {default}\n",
            "    uintx AdaptiveSizePolicyOutputInterval         = 0                                         {product} {default}\n",
            "    uintx AdaptiveSizePolicyWeight                 = 10                                        {product} {default}\n",
            "    uintx AdaptiveSizeThroughPutPolicy             = 0                                         {product} {default}\n",
            "    uintx AdaptiveTimeWeight                       = 25                                        {product} {default}\n",
            "     bool AggressiveHeap                           = false                                     {product} {default}\n",
            "     bool AggressiveOpts                           = false                                     {product} {default}\n",
            "     intx AliasLevel                               = 3                                      {C2 product} {default}\n",
            "     bool AlignVector                              = false                                  {C2 product} {default}\n",
            "    ccstr AllocateHeapAt                           =                                           {product} {default}\n",
            "     intx AllocateInstancePrefetchLines            = 1                                         {product} {default}\n",
            "     intx AllocatePrefetchDistance                 = 256                                       {product} {default}\n",
            "     intx AllocatePrefetchInstr                    = 0                                         {product} {default}\n",
            "     intx AllocatePrefetchLines                    = 3                                         {product} {default}\n",
            "     intx AllocatePrefetchStepSize                 = 64                                        {product} {default}\n",
            "     intx AllocatePrefetchStyle                    = 1                                         {product} {default}\n",
            "     bool AllowJNIEnvProxy                         = false                                     {product} {default}\n",
            "     bool AllowNonVirtualCalls                     = false                                     {product} {default}\n",
            "     bool AllowParallelDefineClass                 = false                                     {product} {default}\n",
            "     bool AllowUserSignalHandlers                  = false                                     {product} {default}\n",
            "     bool AllowVectorizeOnDemand                   = true                                   {C2 product} {default}\n",
            "     bool AlwaysActAsServerClassMachine            = false                                     {product} {default}\n",
            "     bool AlwaysCompileLoopMethods                 = false                                     {product} {default}\n",
            "     bool AlwaysLockClassLoader                    = false                                     {product} {default}\n",
            "     bool AlwaysPreTouch                           = false                                     {product} {default}\n",
            "     bool AlwaysRestoreFPU                         = false                                     {product} {default}\n",
            "     bool AlwaysTenure                             = false                                     {product} {default}\n",
            "     intx ArrayCopyLoadStoreMaxElem                = 8                                      {C2 product} {default}\n",
            "     bool AssertOnSuspendWaitFailure               = false                                     {product} {default}\n",
            "     bool AssumeMP                                 = true                                      {product} {default}\n",
            "     intx AutoBoxCacheMax                          = 128                                    {C2 product} {default}\n",
            "     intx BCEATraceLevel                           = 0                                         {product} {default}\n",
            "     bool BackgroundCompilation                    = true                                   {pd product} {default}\n",
            "   size_t BaseFootPrintEstimate                    = 268435456                                 {product} {default}\n",
            "     intx BiasedLockingBulkRebiasThreshold         = 20                                        {product} {default}\n",
            "     intx BiasedLockingBulkRevokeThreshold         = 40                                        {product} {default}\n",
            "     intx BiasedLockingDecayTime                   = 25000                                     {product} {default}\n",
            "     intx BiasedLockingStartupDelay                = 0                                         {product} {default}\n",
            "     bool BindGCTaskThreadsToCPUs                  = false                                     {product} {default}\n",
            "     bool BlockLayoutByFrequency                   = true                                   {C2 product} {default}\n",
            "     intx BlockLayoutMinDiamondPercentage          = 20                                     {C2 product} {default}\n",
            "     bool BlockLayoutRotateLoops                   = true                                   {C2 product} {default}\n",
            "     bool BranchOnRegister                         = false                                  {C2 product} {default}\n",
            "     bool BytecodeVerificationLocal                = false                                     {product} {default}\n",
            "     bool BytecodeVerificationRemote               = true                                      {product} {default}\n",
            "     bool C1OptimizeVirtualCallProfiling           = true                                   {C1 product} {default}\n",
            "     bool C1ProfileBranches                        = true                                   {C1 product} {default}\n",
            "     bool C1ProfileCalls                           = true                                   {C1 product} {default}\n",
            "     bool C1ProfileCheckcasts                      = true                                   {C1 product} {default}\n",
            "     bool C1ProfileInlinedCalls                    = true                                   {C1 product} {default}\n",
            "     bool C1ProfileVirtualCalls                    = true                                   {C1 product} {default}\n",
            "     bool C1UpdateMethodData                       = true                                   {C1 product} {default}\n",
            "     intx CICompilerCount                          = 2                                         {product} {ergonomic}\n",
            "     bool CICompilerCountPerCPU                    = true                                      {product} {default}\n",
            "     bool CITime                                   = false                                     {product} {default}\n",
            "     bool CMSAbortSemantics                        = false                                     {product} {default}\n",
            "    uintx CMSAbortablePrecleanMinWorkPerIteration  = 100                                       {product} {default}\n",
            "     intx CMSAbortablePrecleanWaitMillis           = 100                                    {manageable} {default}\n",
            "   size_t CMSBitMapYieldQuantum                    = 10485760                                  {product} {default}\n",
            "    uintx CMSBootstrapOccupancy                    = 50                                        {product} {default}\n",
            "     bool CMSClassUnloadingEnabled                 = true                                      {product} {default}\n",
            "    uintx CMSClassUnloadingMaxInterval             = 0                                         {product} {default}\n",
            "     bool CMSCleanOnEnter                          = true                                      {product} {default}\n",
            "   size_t CMSConcMarkMultiple                      = 32                                        {product} {default}\n",
            "     bool CMSConcurrentMTEnabled                   = true                                      {product} {default}\n",
            "    uintx CMSCoordinatorYieldSleepCount            = 10                                        {product} {default}\n",
            "     bool CMSEdenChunksRecordAlways                = true                                      {product} {default}\n",
            "    uintx CMSExpAvgFactor                          = 50                                        {product} {default}\n",
            "     bool CMSExtrapolateSweep                      = false                                     {product} {default}\n",
            "    uintx CMSIncrementalSafetyFactor               = 10                                        {product} {default}\n",
            "    uintx CMSIndexedFreeListReplenish              = 4                                         {product} {default}\n",
            "     intx CMSInitiatingOccupancyFraction           = -1                                        {product} {default}\n",
            "    uintx CMSIsTooFullPercentage                   = 98                                        {product} {default}\n",
            "   double CMSLargeCoalSurplusPercent               = 0.950000                                  {product} {default}\n",
            "   double CMSLargeSplitSurplusPercent              = 1.000000                                  {product} {default}\n",
            "     bool CMSLoopWarn                              = false                                     {product} {default}\n",
            "    uintx CMSMaxAbortablePrecleanLoops             = 0                                         {product} {default}\n",
            "     intx CMSMaxAbortablePrecleanTime              = 5000                                      {product} {default}\n",
            "   size_t CMSOldPLABMax                            = 1024                                      {product} {default}\n",
            "   size_t CMSOldPLABMin                            = 16                                        {product} {default}\n",
            "    uintx CMSOldPLABNumRefills                     = 4                                         {product} {default}\n",
            "    uintx CMSOldPLABReactivityFactor               = 2                                         {product} {default}\n",
            "     bool CMSOldPLABResizeQuicker                  = false                                     {product} {default}\n",
            "    uintx CMSOldPLABToleranceFactor                = 4                                         {product} {default}\n",
            "     bool CMSPLABRecordAlways                      = true                                      {product} {default}\n",
            "     bool CMSParallelInitialMarkEnabled            = true                                      {product} {default}\n",
            "     bool CMSParallelRemarkEnabled                 = true                                      {product} {default}\n",
            "     bool CMSParallelSurvivorRemarkEnabled         = true                                      {product} {default}\n",
            "    uintx CMSPrecleanDenominator                   = 3                                         {product} {default}\n",
            "    uintx CMSPrecleanIter                          = 3                                         {product} {default}\n",
            "    uintx CMSPrecleanNumerator                     = 2                                         {product} {default}\n",
            "     bool CMSPrecleanRefLists1                     = true                                      {product} {default}\n",
            "     bool CMSPrecleanRefLists2                     = false                                     {product} {default}\n",
            "     bool CMSPrecleanSurvivors1                    = false                                     {product} {default}\n",
            "     bool CMSPrecleanSurvivors2                    = true                                      {product} {default}\n",
            "    uintx CMSPrecleanThreshold                     = 1000                                      {product} {default}\n",
            "     bool CMSPrecleaningEnabled                    = true                                      {product} {default}\n",
            "     bool CMSPrintChunksInDump                     = false                                     {product} {default}\n",
            "     bool CMSPrintObjectsInDump                    = false                                     {product} {default}\n",
            "    uintx CMSRemarkVerifyVariant                   = 1                                         {product} {default}\n",
            "     bool CMSReplenishIntermediate                 = true                                      {product} {default}\n",
            "   size_t CMSRescanMultiple                        = 32                                        {product} {default}\n",
            "    uintx CMSSamplingGrain                         = 16384                                     {product} {default}\n",
            "     bool CMSScavengeBeforeRemark                  = false                                     {product} {default}\n",
            "    uintx CMSScheduleRemarkEdenPenetration         = 50                                        {product} {default}\n",
            "   size_t CMSScheduleRemarkEdenSizeThreshold       = 2097152                                   {product} {default}\n",
            "    uintx CMSScheduleRemarkSamplingRatio           = 5                                         {product} {default}\n",
            "   double CMSSmallCoalSurplusPercent               = 1.050000                                  {product} {default}\n",
            "   double CMSSmallSplitSurplusPercent              = 1.100000                                  {product} {default}\n",
            "     bool CMSSplitIndexedFreeListBlocks            = true                                      {product} {default}\n",
            "     intx CMSTriggerInterval                       = -1                                     {manageable} {default}\n",
            "    uintx CMSTriggerRatio                          = 80                                        {product} {default}\n",
            "     intx CMSWaitDuration                          = 2000                                   {manageable} {default}\n",
            "    uintx CMSWorkQueueDrainThreshold               = 10                                        {product} {default}\n",
            "     bool CMSYield                                 = true                                      {product} {default}\n",
            "    uintx CMSYieldSleepCount                       = 0                                         {product} {default}\n",
            "   size_t CMSYoungGenPerWorker                     = 67108864                               {pd product} {default}\n",
            "    uintx CMS_FLSPadding                           = 1                                         {product} {default}\n",
            "    uintx CMS_FLSWeight                            = 75                                        {product} {default}\n",
            "    uintx CMS_SweepPadding                         = 1                                         {product} {default}\n",
            "    uintx CMS_SweepTimerThresholdMillis            = 10                                        {product} {default}\n",
            "    uintx CMS_SweepWeight                          = 75                                        {product} {default}\n",
            "     bool CalculateClassFingerprint                = false                                     {product} {default}\n",
            "     bool CheckJNICalls                            = false                                     {product} {default}\n",
            "     bool ClassUnloading                           = true                                      {product} {default}\n",
            "     bool ClassUnloadingWithConcurrentMark         = true                                      {product} {default}\n",
            "     bool ClipInlining                             = true                                      {product} {default}\n",
            "    uintx CodeCacheExpansionSize                   = 65536                                  {pd product} {default}\n",
            "     bool CompactFields                            = true                                      {product} {default}\n",
            "     bool CompactStrings                           = true                                   {pd product} {default}\n",
            "     intx CompilationPolicyChoice                  = 2                                         {product} {default}\n",
            "ccstrlist CompileCommand                           =                                           {product} {default}\n",
            "    ccstr CompileCommandFile                       =                                           {product} {default}\n",
            "ccstrlist CompileOnly                              =                                           {product} {default}\n",
            "     intx CompileThreshold                         = 10000                                  {pd product} {default}\n",
            "   double CompileThresholdScaling                  = 1.000000                                  {product} {default}\n",
            "     bool CompilerThreadHintNoPreempt              = false                                     {product} {default}\n",
            "     intx CompilerThreadPriority                   = -1                                        {product} {default}\n",
            "     intx CompilerThreadStackSize                  = 1024                                   {pd product} {default}\n",
            "   size_t CompressedClassSpaceSize                 = 1073741824                                {product} {default}\n",
            "     uint ConcGCThreads                            = 1                                         {product} {ergonomic}\n",
            "     intx ConditionalMoveLimit                     = 3                                   {C2 pd product} {default}\n",
            "     intx ContendedPaddingWidth                    = 128                                       {product} {default}\n",
            "     bool CrashOnOutOfMemoryError                  = false                                     {product} {default}\n",
            "     bool CreateCoredumpOnCrash                    = true                                      {product} {default}\n",
            "     bool CriticalJNINatives                       = true                                      {product} {default}\n",
            "     bool DTraceAllocProbes                        = false                                     {product} {default}\n",
            "     bool DTraceMethodProbes                       = false                                     {product} {default}\n",
            "     bool DTraceMonitorProbes                      = false                                     {product} {default}\n",
            "     bool Debugging                                = false                                     {product} {default}\n",
            "     bool DeoptimizeRandom                         = false                                     {product} {default}\n",
            "     bool DisableAttachMechanism                   = false                                     {product} {default}\n",
            "     bool DisableExplicitGC                        = false                                     {product} {default}\n",
            "     bool DisplayVMOutputToStderr                  = false                                     {product} {default}\n",
            "     bool DisplayVMOutputToStdout                  = false                                     {product} {default}\n",
            "     bool DoEscapeAnalysis                         = true                                   {C2 product} {default}\n",
            "     bool DoReserveCopyInSuperWord                 = true                                   {C2 product} {default}\n",
            "     bool DontCompileHugeMethods                   = true                                      {product} {default}\n",
            "     bool DontYieldALot                            = false                                  {pd product} {default}\n",
            "    ccstr DumpLoadedClassList                      =                                           {product} {default}\n",
            "     bool DumpReplayDataOnError                    = true                                      {product} {default}\n",
            "     bool DumpSharedSpaces                         = false                                     {product} {default}\n",
            "     bool EagerXrunInit                            = false                                     {product} {default}\n",
            "     intx EliminateAllocationArraySizeLimit        = 64                                     {C2 product} {default}\n",
            "     bool EliminateAllocations                     = true                                   {C2 product} {default}\n",
            "     bool EliminateAutoBox                         = true                                   {C2 product} {default}\n",
            "     bool EliminateLocks                           = true                                   {C2 product} {default}\n",
            "     bool EliminateNestedLocks                     = true                                   {C2 product} {default}\n",
            "     bool EnableContended                          = true                                      {product} {default}\n",
            "     bool EnableDynamicAgentLoading                = true                                      {product} {default}\n",
            "   size_t ErgoHeapSizeLimit                        = 0                                         {product} {default}\n",
            "    ccstr ErrorFile                                =                                           {product} {default}\n",
            "     bool ErrorFileToStderr                        = false                                     {product} {default}\n",
            "     bool ErrorFileToStdout                        = false                                     {product} {default}\n",
            " uint64_t ErrorLogTimeout                          = 120                                       {product} {default}\n",
            "    ccstr ErrorReportServer                        =                                           {product} {default}\n",
            "   double EscapeAnalysisTimeout                    = 20.000000                              {C2 product} {default}\n",
            "     bool EstimateArgEscape                        = true                                      {product} {default}\n",
            "     bool ExecutingUnitTests                       = false                                     {product} {default}\n",
            "     bool ExitOnOutOfMemoryError                   = false                                     {product} {default}\n",
            "     bool ExplicitGCInvokesConcurrent              = false                                     {product} {default}\n",
            "     bool ExtendedDTraceProbes                     = false                                     {product} {default}\n",
            "     bool ExtensiveErrorReports                    = false                                     {product} {default}\n",
            "    ccstr ExtraSharedClassListFile                 =                                           {product} {default}\n",
            "     bool FLSAlwaysCoalesceLarge                   = false                                     {product} {default}\n",
            "    uintx FLSCoalescePolicy                        = 2                                         {product} {default}\n",
            "   double FLSLargestBlockCoalesceProximity         = 0.990000                                  {product} {default}\n",
            "     bool FailOverToOldVerifier                    = true                                      {product} {default}\n",
            "     intx FieldsAllocationStyle                    = 1                                         {product} {default}\n",
            "     bool FilterSpuriousWakeups                    = true                                      {product} {default}\n",
            "     bool FlightRecorder                           = false                                     {product} {default}\n",
            "    ccstr FlightRecorderOptions                    =                                           {product} {default}\n",
            "     bool ForceNUMA                                = false                                     {product} {default}\n",
            "     bool ForceTimeHighResolution                  = false                                     {product} {default}\n",
            "     intx FreqInlineSize                           = 325                                    {pd product} {default}\n",
            "   double G1ConcMarkStepDurationMillis             = 10.000000                                 {product} {default}\n",
            "    uintx G1ConcRSHotCardLimit                     = 4                                         {product} {default}\n",
            "   size_t G1ConcRSLogCacheSize                     = 10                                        {product} {default}\n",
            "   size_t G1ConcRefinementGreenZone                = 0                                         {product} {default}\n",
            "   size_t G1ConcRefinementRedZone                  = 0                                         {product} {default}\n",
            "    uintx G1ConcRefinementServiceIntervalMillis    = 300                                       {product} {default}\n",
            "     uint G1ConcRefinementThreads                  = 2                                         {product} {ergonomic}\n",
            "   size_t G1ConcRefinementThresholdStep            = 2                                         {product} {default}\n",
            "   size_t G1ConcRefinementYellowZone               = 0                                         {product} {default}\n",
            "    uintx G1ConfidencePercent                      = 50                                        {product} {default}\n",
            "   size_t G1HeapRegionSize                         = 1048576                                   {product} {ergonomic}\n",
            "    uintx G1HeapWastePercent                       = 5                                         {product} {default}\n",
            "    uintx G1MixedGCCountTarget                     = 8                                         {product} {default}\n",
            "     intx G1RSetRegionEntries                      = 256                                       {product} {default}\n",
            "   size_t G1RSetScanBlockSize                      = 64                                        {product} {default}\n",
            "     intx G1RSetSparseRegionEntries                = 4                                         {product} {default}\n",
            "     intx G1RSetUpdatingPauseTimePercent           = 10                                        {product} {default}\n",
            "     uint G1RefProcDrainInterval                   = 1000                                      {product} {default}\n",
            "    uintx G1ReservePercent                         = 10                                        {product} {default}\n",
            "    uintx G1SATBBufferEnqueueingThresholdPercent   = 60                                        {product} {default}\n",
            "   size_t G1SATBBufferSize                         = 1024                                      {product} {default}\n",
            "   size_t G1UpdateBufferSize                       = 256                                       {product} {default}\n",
            "     bool G1UseAdaptiveConcRefinement              = true                                      {product} {default}\n",
            "     bool G1UseAdaptiveIHOP                        = true                                      {product} {default}\n",
            "    uintx GCDrainStackTargetSize                   = 64                                        {product} {ergonomic}\n",
            "    uintx GCHeapFreeLimit                          = 2                                         {product} {default}\n",
            "    uintx GCLockerEdenExpansionPercent             = 5                                         {product} {default}\n",
            "     bool GCLockerInvokesConcurrent                = false                                     {product} {default}\n",
            "    uintx GCPauseIntervalMillis                    = 201                                       {product} {default}\n",
            "     uint GCTaskTimeStampEntries                   = 200                                       {product} {default}\n",
            "    uintx GCTimeLimit                              = 98                                        {product} {default}\n",
            "    uintx GCTimeRatio                              = 12                                        {product} {default}\n",
            "   size_t HeapBaseMinAddress                       = 2147483648                             {pd product} {default}\n",
            "     bool HeapDumpAfterFullGC                      = false                                  {manageable} {default}\n",
            "     bool HeapDumpBeforeFullGC                     = false                                  {manageable} {default}\n",
            "     bool HeapDumpOnOutOfMemoryError               = false                                  {manageable} {default}\n",
            "    ccstr HeapDumpPath                             =                                        {manageable} {default}\n",
            "    uintx HeapFirstMaximumCompactionCount          = 3                                         {product} {default}\n",
            "    uintx HeapMaximumCompactionInterval            = 20                                        {product} {default}\n",
            "    uintx HeapSearchSteps                          = 3                                         {product} {default}\n",
            "   size_t HeapSizePerGCThread                      = 43620760                                  {product} {default}\n",
            "     bool IgnoreEmptyClassPaths                    = false                                     {product} {default}\n",
            "     bool IgnoreUnrecognizedVMOptions              = false                                     {product} {default}\n",
            "    uintx IncreaseFirstTierCompileThresholdAt      = 50                                        {product} {default}\n",
            "     bool IncrementalInline                        = true                                   {C2 product} {default}\n",
            "   size_t InitialBootClassLoaderMetaspaceSize      = 4194304                                   {product} {default}\n",
            "    uintx InitialCodeCacheSize                     = 2555904                                {pd product} {default}\n",
            "   size_t InitialHeapSize                          = 213909504                                 {product} {ergonomic}\n",
            "    uintx InitialRAMFraction                       = 64                                        {product} {default}\n",
            "   double InitialRAMPercentage                     = 1.562500                                  {product} {default}\n",
            "    uintx InitialSurvivorRatio                     = 8                                         {product} {default}\n",
            "    uintx InitialTenuringThreshold                 = 7                                         {product} {default}\n",
            "    uintx InitiatingHeapOccupancyPercent           = 45                                        {product} {default}\n",
            "     bool Inline                                   = true                                      {product} {default}\n",
            "    ccstr InlineDataFile                           =                                           {product} {default}\n",
            "     intx InlineSmallCode                          = 2000                                   {pd product} {default}\n",
            "     bool InlineSynchronizedMethods                = true                                   {C1 product} {default}\n",
            "     bool InsertMemBarAfterArraycopy               = true                                   {C2 product} {default}\n",
            "     intx InteriorEntryAlignment                   = 16                                  {C2 pd product} {default}\n",
            "     intx InterpreterProfilePercentage             = 33                                        {product} {default}\n",
            "     bool JavaMonitorsInStackTrace                 = true                                      {product} {default}\n",
            "     intx JavaPriority10_To_OSPriority             = -1                                        {product} {default}\n",
            "     intx JavaPriority1_To_OSPriority              = -1                                        {product} {default}\n",
            "     intx JavaPriority2_To_OSPriority              = -1                                        {product} {default}\n",
            "     intx JavaPriority3_To_OSPriority              = -1                                        {product} {default}\n",
            "     intx JavaPriority4_To_OSPriority              = -1                                        {product} {default}\n",
            "     intx JavaPriority5_To_OSPriority              = -1                                        {product} {default}\n",
            "     intx JavaPriority6_To_OSPriority              = -1                                        {product} {default}\n",
            "     intx JavaPriority7_To_OSPriority              = -1                                        {product} {default}\n",
            "     intx JavaPriority8_To_OSPriority              = -1                                        {product} {default}\n",
            "     intx JavaPriority9_To_OSPriority              = -1                                        {product} {default}\n",
            "     bool LIRFillDelaySlots                        = false                               {C1 pd product} {default}\n",
            "   size_t LargePageHeapSizeThreshold               = 134217728                                 {product} {default}\n",
            "   size_t LargePageSizeInBytes                     = 0                                         {product} {default}\n",
            "     intx LiveNodeCountInliningCutoff              = 40000                                  {C2 product} {default}\n",
            "     bool LoadExecStackDllInVMThread               = true                                      {product} {default}\n",
            "     intx LoopMaxUnroll                            = 16                                     {C2 product} {default}\n",
            "     intx LoopOptsCount                            = 43                                     {C2 product} {default}\n",
            "     intx LoopPercentProfileLimit                  = 10                                  {C2 pd product} {default}\n",
            "    uintx LoopStripMiningIter                      = 1000                                   {C2 product} {default}\n",
            "    uintx LoopStripMiningIterShortLoop             = 100                                    {C2 product} {default}\n",
            "     intx LoopUnrollLimit                          = 60                                  {C2 pd product} {default}\n",
            "     intx LoopUnrollMin                            = 4                                      {C2 product} {default}\n",
            "     bool LoopUnswitching                          = true                                   {C2 product} {default}\n",
            "     bool ManagementServer                         = false                                     {product} {default}\n",
            "   size_t MarkStackSize                            = 4194304                                   {product} {ergonomic}\n",
            "   size_t MarkStackSizeMax                         = 16777216                                  {product} {default}\n",
            "     uint MarkSweepAlwaysCompactCount              = 4                                         {product} {default}\n",
            "    uintx MarkSweepDeadRatio                       = 5                                         {product} {default}\n",
            "     intx MaxBCEAEstimateLevel                     = 5                                         {product} {default}\n",
            "     intx MaxBCEAEstimateSize                      = 150                                       {product} {default}\n",
            " uint64_t MaxDirectMemorySize                      = 0                                         {product} {default}\n",
            "     bool MaxFDLimit                               = true                                      {product} {default}\n",
            "    uintx MaxGCMinorPauseMillis                    = 18446744073709551615                      {product} {default}\n",
            "    uintx MaxGCPauseMillis                         = 200                                       {product} {default}\n",
            "    uintx MaxHeapFreeRatio                         = 70                                     {manageable} {default}\n",
            "   size_t MaxHeapSize                              = 3403677696                                {product} {ergonomic}\n",
            "     intx MaxInlineLevel                           = 15                                        {product} {default}\n",
            "     intx MaxInlineSize                            = 35                                        {product} {default}\n",
            "     intx MaxJNILocalCapacity                      = 65536                                     {product} {default}\n",
            "     intx MaxJavaStackTraceDepth                   = 1024                                      {product} {default}\n",
            "     intx MaxJumpTableSize                         = 65000                                  {C2 product} {default}\n",
            "     intx MaxJumpTableSparseness                   = 5                                      {C2 product} {default}\n",
            "     intx MaxLabelRootDepth                        = 1100                                   {C2 product} {default}\n",
            "     intx MaxLoopPad                               = 15                                     {C2 product} {default}\n",
            "   size_t MaxMetaspaceExpansion                    = 5451776                                   {product} {default}\n",
            "    uintx MaxMetaspaceFreeRatio                    = 70                                        {product} {default}\n",
            "   size_t MaxMetaspaceSize                         = 18446744073709547520                      {product} {default}\n",
            "   size_t MaxNewSize                               = 2041577472                                {product} {ergonomic}\n",
            "     intx MaxNodeLimit                             = 80000                                  {C2 product} {default}\n",
            " uint64_t MaxRAM                                   = 137438953472                           {pd product} {default}\n",
            "    uintx MaxRAMFraction                           = 4                                         {product} {default}\n",
            "   double MaxRAMPercentage                         = 25.000000                                 {product} {default}\n",
            "     intx MaxRecursiveInlineLevel                  = 1                                         {product} {default}\n",
            "    uintx MaxTenuringThreshold                     = 15                                        {product} {default}\n",
            "     intx MaxTrivialSize                           = 6                                         {product} {default}\n",
            "     intx MaxVectorSize                            = 32                                     {C2 product} {default}\n",
            "   size_t MetaspaceSize                            = 21807104                               {pd product} {default}\n",
            "     bool MethodFlushing                           = true                                      {product} {default}\n",
            "   size_t MinHeapDeltaBytes                        = 1048576                                   {product} {ergonomic}\n",
            "    uintx MinHeapFreeRatio                         = 40                                     {manageable} {default}\n",
            "     intx MinInliningThreshold                     = 250                                       {product} {default}\n",
            "     intx MinJumpTableSize                         = 10                                  {C2 pd product} {default}\n",
            "   size_t MinMetaspaceExpansion                    = 339968                                    {product} {default}\n",
            "    uintx MinMetaspaceFreeRatio                    = 40                                        {product} {default}\n",
            "    uintx MinRAMFraction                           = 2                                         {product} {default}\n",
            "   double MinRAMPercentage                         = 50.000000                                 {product} {default}\n",
            "    uintx MinSurvivorRatio                         = 3                                         {product} {default}\n",
            "   size_t MinTLABSize                              = 2048                                      {product} {default}\n",
            "     intx MonitorBound                             = 0                                         {product} {default}\n",
            "     bool MonitorInUseLists                        = true                                      {product} {default}\n",
            "     intx MultiArrayExpandLimit                    = 6                                      {C2 product} {default}\n",
            "    uintx NUMAChunkResizeWeight                    = 20                                        {product} {default}\n",
            "   size_t NUMAInterleaveGranularity                = 2097152                                   {product} {default}\n",
            "    uintx NUMAPageScanRate                         = 256                                       {product} {default}\n",
            "   size_t NUMASpaceResizeRate                      = 1073741824                                {product} {default}\n",
            "     bool NUMAStats                                = false                                     {product} {default}\n",
            "    ccstr NativeMemoryTracking                     = off                                       {product} {default}\n",
            "     bool NeedsDeoptSuspend                        = false                                  {pd product} {default}\n",
            "     bool NeverActAsServerClassMachine             = false                                  {pd product} {default}\n",
            "     bool NeverTenure                              = false                                     {product} {default}\n",
            "    uintx NewRatio                                 = 2                                         {product} {default}\n",
            "   size_t NewSize                                  = 1363144                                   {product} {default}\n",
            "   size_t NewSizeThreadIncrease                    = 5320                                   {pd product} {default}\n",
            "     intx NmethodSweepActivity                     = 10                                        {product} {default}\n",
            "     intx NodeLimitFudgeFactor                     = 2000                                   {C2 product} {default}\n",
            "    uintx NonNMethodCodeHeapSize                   = 5825164                                {pd product} {ergonomic}\n",
            "    uintx NonProfiledCodeHeapSize                  = 122916538                              {pd product} {ergonomic}\n",
            "     intx NumberOfLoopInstrToAlign                 = 4                                      {C2 product} {default}\n",
            "     intx ObjectAlignmentInBytes                   = 8                                    {lp64_product} {default}\n",
            "   size_t OldPLABSize                              = 1024                                      {product} {default}\n",
            "    uintx OldPLABWeight                            = 50                                        {product} {default}\n",
            "   size_t OldSize                                  = 5452592                                   {product} {default}\n",
            "     bool OmitStackTraceInFastThrow                = true                                      {product} {default}\n",
            "ccstrlist OnError                                  =                                           {product} {default}\n",
            "ccstrlist OnOutOfMemoryError                       =                                           {product} {default}\n",
            "     intx OnStackReplacePercentage                 = 140                                    {pd product} {default}\n",
            "     bool OptimizeFill                             = true                                   {C2 product} {default}\n",
            "     bool OptimizePtrCompare                       = true                                   {C2 product} {default}\n",
            "     bool OptimizeStringConcat                     = true                                   {C2 product} {default}\n",
            "     bool OptoBundling                             = false                               {C2 pd product} {default}\n",
            "     intx OptoLoopAlignment                        = 16                                     {pd product} {default}\n",
            "     bool OptoRegScheduling                        = true                                {C2 pd product} {default}\n",
            "     bool OptoScheduling                           = false                               {C2 pd product} {default}\n",
            "    uintx PLABWeight                               = 75                                        {product} {default}\n",
            "     bool PSChunkLargeArrays                       = true                                      {product} {default}\n",
            "      int ParGCArrayScanChunk                      = 50                                        {product} {default}\n",
            "    uintx ParGCDesiredObjsFromOverflowList         = 20                                        {product} {default}\n",
            "     bool ParGCTrimOverflow                        = true                                      {product} {default}\n",
            "     bool ParGCUseLocalOverflow                    = false                                     {product} {default}\n",
            "    uintx ParallelGCBufferWastePct                 = 10                                        {product} {default}\n",
            "     uint ParallelGCThreads                        = 2                                         {product} {default}\n",
            "   size_t ParallelOldDeadWoodLimiterMean           = 50                                        {product} {default}\n",
            "   size_t ParallelOldDeadWoodLimiterStdDev         = 80                                        {product} {default}\n",
            "     bool ParallelRefProcBalancingEnabled          = true                                      {product} {default}\n",
            "     bool ParallelRefProcEnabled                   = true                                      {product} {default}\n",
            "     bool PartialPeelAtUnsignedTests               = true                                   {C2 product} {default}\n",
            "     bool PartialPeelLoop                          = true                                   {C2 product} {default}\n",
            "     intx PartialPeelNewPhiDelta                   = 0                                      {C2 product} {default}\n",
            "    uintx PausePadding                             = 1                                         {product} {default}\n",
            "     intx PerBytecodeRecompilationCutoff           = 200                                       {product} {default}\n",
            "     intx PerBytecodeTrapLimit                     = 4                                         {product} {default}\n",
            "     intx PerMethodRecompilationCutoff             = 400                                       {product} {default}\n",
            "     intx PerMethodTrapLimit                       = 100                                       {product} {default}\n",
            "     bool PerfAllowAtExitRegistration              = false                                     {product} {default}\n",
            "     bool PerfBypassFileSystemCheck                = false                                     {product} {default}\n",
            "     intx PerfDataMemorySize                       = 32768                                     {product} {default}\n",
            "     intx PerfDataSamplingInterval                 = 50                                        {product} {default}\n",
            "    ccstr PerfDataSaveFile                         =                                           {product} {default}\n",
            "     bool PerfDataSaveToFile                       = false                                     {product} {default}\n",
            "     bool PerfDisableSharedMem                     = false                                     {product} {default}\n",
            "     intx PerfMaxStringConstLength                 = 1024                                      {product} {default}\n",
            "   size_t PreTouchParallelChunkSize                = 1073741824                                {product} {default}\n",
            "     bool PreferContainerQuotaForCPUCount          = true                                      {product} {default}\n",
            "     bool PreferInterpreterNativeStubs             = false                                  {pd product} {default}\n",
            "     intx PrefetchCopyIntervalInBytes              = 576                                       {product} {default}\n",
            "     intx PrefetchFieldsAhead                      = 1                                         {product} {default}\n",
            "     intx PrefetchScanIntervalInBytes              = 576                                       {product} {default}\n",
            "     bool PreserveAllAnnotations                   = false                                     {product} {default}\n",
            "     bool PreserveFramePointer                     = false                                  {pd product} {default}\n",
            "   size_t PretenureSizeThreshold                   = 0                                         {product} {default}\n",
            "     bool PrintClassHistogram                      = false                                  {manageable} {default}\n",
            "     bool PrintCodeCache                           = false                                     {product} {default}\n",
            "     bool PrintCodeCacheOnCompilation              = false                                     {product} {default}\n",
            "     bool PrintCommandLineFlags                    = false                                     {product} {default}\n",
            "     bool PrintCompilation                         = false                                     {product} {default}\n",
            "     bool PrintConcurrentLocks                     = false                                  {manageable} {default}\n",
            "     bool PrintExtendedThreadInfo                  = false                                     {product} {default}\n",
            "     bool PrintFlagsFinal                          = true                                      {product} {command line}\n",
            "     bool PrintFlagsInitial                        = false                                     {product} {default}\n",
            "     bool PrintFlagsRanges                         = false                                     {product} {default}\n",
            "     bool PrintGC                                  = false                                     {product} {default}\n",
            "     bool PrintGCDetails                           = false                                     {product} {default}\n",
            "     bool PrintHeapAtSIGBREAK                      = true                                      {product} {default}\n",
            "     bool PrintJNIResolving                        = false                                     {product} {default}\n",
            "     bool PrintSafepointStatistics                 = false                                     {product} {default}\n",
            "     intx PrintSafepointStatisticsCount            = 300                                       {product} {default}\n",
            "     intx PrintSafepointStatisticsTimeout          = -1                                        {product} {default}\n",
            "     bool PrintSharedArchiveAndExit                = false                                     {product} {default}\n",
            "     bool PrintSharedDictionary                    = false                                     {product} {default}\n",
            "     bool PrintStringTableStatistics               = false                                     {product} {default}\n",
            "     bool PrintTieredEvents                        = false                                     {product} {default}\n",
            "     bool PrintVMOptions                           = false                                     {product} {default}\n",
            "     bool PrintVMQWaitTime                         = false                                     {product} {default}\n",
            "     bool PrintWarnings                            = true                                      {product} {default}\n",
            "    uintx ProcessDistributionStride                = 4                                         {product} {default}\n",
            "     bool ProfileInterpreter                       = true                                   {pd product} {default}\n",
            "     bool ProfileIntervals                         = false                                     {product} {default}\n",
            "     intx ProfileIntervalsTicks                    = 100                                       {product} {default}\n",
            "     intx ProfileMaturityPercentage                = 20                                        {product} {default}\n",
            "     bool ProfileVM                                = false                                     {product} {default}\n",
            "    uintx ProfiledCodeHeapSize                     = 122916538                              {pd product} {ergonomic}\n",
            "     bool ProfilerPrintByteCodeStatistics          = false                                     {product} {default}\n",
            "     bool ProfilerRecordPC                         = false                                     {product} {default}\n",
            "    uintx PromotedPadding                          = 3                                         {product} {default}\n",
            "    uintx QueuedAllocationWarningCount             = 0                                         {product} {default}\n",
            "      int RTMRetryCount                            = 5                                    {ARCH product} {default}\n",
            "     bool RangeCheckElimination                    = true                                      {product} {default}\n",
            "     bool ReassociateInvariants                    = true                                   {C2 product} {default}\n",
            "     bool ReduceBulkZeroing                        = true                                   {C2 product} {default}\n",
            "     bool ReduceFieldZeroing                       = true                                   {C2 product} {default}\n",
            "     bool ReduceInitialCardMarks                   = true                                   {C2 product} {default}\n",
            "     bool ReduceSignalUsage                        = false                                     {product} {default}\n",
            "     intx RefDiscoveryPolicy                       = 0                                         {product} {default}\n",
            "     bool RegisterFinalizersAtInit                 = true                                      {product} {default}\n",
            "     bool RelaxAccessControlCheck                  = false                                     {product} {default}\n",
            "    ccstr ReplayDataFile                           =                                           {product} {default}\n",
            "     bool RequireSharedSpaces                      = false                                     {product} {default}\n",
            "    uintx ReservedCodeCacheSize                    = 251658240                              {pd product} {ergonomic}\n",
            "     bool ResizeOldPLAB                            = true                                      {product} {default}\n",
            "     bool ResizePLAB                               = true                                      {product} {default}\n",
            "     bool ResizeTLAB                               = true                                   {pd product} {default}\n",
            "     bool RestoreMXCSROnJNICalls                   = false                                     {product} {default}\n",
            "     bool RestrictContended                        = true                                      {product} {default}\n",
            "     bool RestrictReservedStack                    = true                                      {product} {default}\n",
            "     bool RewriteBytecodes                         = true                                   {pd product} {default}\n",
            "     bool RewriteFrequentPairs                     = true                                   {pd product} {default}\n",
            "     bool SafepointTimeout                         = false                                     {product} {default}\n",
            "     intx SafepointTimeoutDelay                    = 10000                                     {product} {default}\n",
            "     bool ScavengeBeforeFullGC                     = false                                     {product} {default}\n",
            "     bool SegmentedCodeCache                       = true                                      {product} {ergonomic}\n",
            "     intx SelfDestructTimer                        = 0                                         {product} {default}\n",
            "    ccstr SharedArchiveConfigFile                  =                                           {product} {default}\n",
            "    ccstr SharedArchiveFile                        =                                           {product} {default}\n",
            "   size_t SharedBaseAddress                        = 34359738368                               {product} {default}\n",
            "    ccstr SharedClassListFile                      =                                           {product} {default}\n",
            "    uintx SharedSymbolTableBucketSize              = 4                                         {product} {default}\n",
            "    ccstr ShenandoahGCHeuristics                   = adaptive                                  {product} {default}\n",
            "    ccstr ShenandoahGCMode                         = satb                                      {product} {default}\n",
            "   size_t ShenandoahSoftMaxHeapSize                = 0                                      {manageable} {default}\n",
            "     bool ShowMessageBoxOnError                    = false                                     {product} {default}\n",
            "     bool ShrinkHeapInSteps                        = true                                      {product} {default}\n",
            "     intx SoftRefLRUPolicyMSPerMB                  = 1000                                      {product} {default}\n",
            "     bool SplitIfBlocks                            = true                                   {C2 product} {default}\n",
            "     intx StackRedPages                            = 1                                      {pd product} {default}\n",
            "     intx StackReservedPages                       = 1                                      {pd product} {default}\n",
            "     intx StackShadowPages                         = 20                                     {pd product} {default}\n",
            "     bool StackTraceInThrowable                    = true                                      {product} {default}\n",
            "     intx StackYellowPages                         = 2                                      {pd product} {default}\n",
            "    uintx StartAggressiveSweepingAt                = 10                                        {product} {default}\n",
            "     bool StartAttachListener                      = false                                     {product} {default}\n",
            "    ccstr StartFlightRecording                     =                                           {product} {default}\n",
            "     bool StressLdcRewrite                         = false                                     {product} {default}\n",
            "    uintx StringDeduplicationAgeThreshold          = 3                                         {product} {default}\n",
            "    uintx StringTableSize                          = 65536                                     {product} {default}\n",
            "     bool SuperWordLoopUnrollAnalysis              = true                                {C2 pd product} {default}\n",
            "     bool SuperWordReductions                      = true                                   {C2 product} {default}\n",
            "     bool SuppressFatalErrorMessage                = false                                     {product} {default}\n",
            "    uintx SurvivorPadding                          = 3                                         {product} {default}\n",
            "    uintx SurvivorRatio                            = 8                                         {product} {default}\n",
            "     intx SuspendRetryCount                        = 50                                        {product} {default}\n",
            "     intx SuspendRetryDelay                        = 5                                         {product} {default}\n",
            "    uintx TLABAllocationWeight                     = 35                                        {product} {default}\n",
            "    uintx TLABRefillWasteFraction                  = 64                                        {product} {default}\n",
            "   size_t TLABSize                                 = 0                                         {product} {default}\n",
            "     bool TLABStats                                = true                                      {product} {default}\n",
            "    uintx TLABWasteIncrement                       = 4                                         {product} {default}\n",
            "    uintx TLABWasteTargetPercent                   = 1                                         {product} {default}\n",
            "    uintx TargetPLABWastePct                       = 10                                        {product} {default}\n",
            "    uintx TargetSurvivorRatio                      = 50                                        {product} {default}\n",
            "    uintx TenuredGenerationSizeIncrement           = 20                                        {product} {default}\n",
            "    uintx TenuredGenerationSizeSupplement          = 80                                        {product} {default}\n",
            "    uintx TenuredGenerationSizeSupplementDecay     = 2                                         {product} {default}\n",
            "     bool ThreadLocalHandshakes                    = true                                   {pd product} {default}\n",
            "     intx ThreadPriorityPolicy                     = 0                                         {product} {default}\n",
            "     bool ThreadPriorityVerbose                    = false                                     {product} {default}\n",
            "     intx ThreadStackSize                          = 1024                                   {pd product} {default}\n",
            "    uintx ThresholdTolerance                       = 10                                        {product} {default}\n",
            "     intx Tier0BackedgeNotifyFreqLog               = 10                                        {product} {default}\n",
            "     intx Tier0InvokeNotifyFreqLog                 = 7                                         {product} {default}\n",
            "     intx Tier0ProfilingStartPercentage            = 200                                       {product} {default}\n",
            "     intx Tier23InlineeNotifyFreqLog               = 20                                        {product} {default}\n",
            "     intx Tier2BackEdgeThreshold                   = 0                                         {product} {default}\n",
            "     intx Tier2BackedgeNotifyFreqLog               = 14                                        {product} {default}\n",
            "     intx Tier2CompileThreshold                    = 0                                         {product} {default}\n",
            "     intx Tier2InvokeNotifyFreqLog                 = 11                                        {product} {default}\n",
            "     intx Tier3AOTBackEdgeThreshold                = 120000                                    {product} {default}\n",
            "     intx Tier3AOTCompileThreshold                 = 15000                                     {product} {default}\n",
            "     intx Tier3AOTInvocationThreshold              = 10000                                     {product} {default}\n",
            "     intx Tier3AOTMinInvocationThreshold           = 1000                                      {product} {default}\n",
            "     intx Tier3BackEdgeThreshold                   = 60000                                     {product} {default}\n",
            "     intx Tier3BackedgeNotifyFreqLog               = 13                                        {product} {default}\n",
            "     intx Tier3CompileThreshold                    = 2000                                      {product} {default}\n",
            "     intx Tier3DelayOff                            = 2                                         {product} {default}\n",
            "     intx Tier3DelayOn                             = 5                                         {product} {default}\n",
            "     intx Tier3InvocationThreshold                 = 200                                       {product} {default}\n",
            "     intx Tier3InvokeNotifyFreqLog                 = 10                                        {product} {default}\n",
            "     intx Tier3LoadFeedback                        = 5                                         {product} {default}\n",
            "     intx Tier3MinInvocationThreshold              = 100                                       {product} {default}\n",
            "     intx Tier4BackEdgeThreshold                   = 40000                                     {product} {default}\n",
            "     intx Tier4CompileThreshold                    = 15000                                     {product} {default}\n",
            "     intx Tier4InvocationThreshold                 = 5000                                      {product} {default}\n",
            "     intx Tier4LoadFeedback                        = 3                                         {product} {default}\n",
            "     intx Tier4MinInvocationThreshold              = 600                                       {product} {default}\n",
            "     bool TieredCompilation                        = true                                   {pd product} {default}\n",
            "     intx TieredCompileTaskTimeout                 = 50                                        {product} {default}\n",
            "     intx TieredRateUpdateMaxTime                  = 25                                        {product} {default}\n",
            "     intx TieredRateUpdateMinTime                  = 1                                         {product} {default}\n",
            "     intx TieredStopAtLevel                        = 4                                         {product} {default}\n",
            "     bool TimeLinearScan                           = false                                  {C1 product} {default}\n",
            "    ccstr TraceJVMTI                               =                                           {product} {default}\n",
            "     bool TraceSuspendWaitFailures                 = false                                     {product} {default}\n",
            "     intx TrackedInitializationLimit               = 50                                     {C2 product} {default}\n",
            "     bool TransmitErrorReport                      = false                                     {product} {default}\n",
            "     bool TrapBasedNullChecks                      = false                                  {pd product} {default}\n",
            "     bool TrapBasedRangeChecks                     = false                               {C2 pd product} {default}\n",
            "     intx TypeProfileArgsLimit                     = 2                                         {product} {default}\n",
            "    uintx TypeProfileLevel                         = 111                                    {pd product} {default}\n",
            "     intx TypeProfileMajorReceiverPercent          = 90                                     {C2 product} {default}\n",
            "     intx TypeProfileParmsLimit                    = 2                                         {product} {default}\n",
            "     intx TypeProfileWidth                         = 2                                         {product} {default}\n",
            "     intx UnguardOnExecutionViolation              = 0                                         {product} {default}\n",
            "     bool UnlinkSymbolsALot                        = false                                     {product} {default}\n",
            "     bool UseAES                                   = true                                      {product} {default}\n",
            "     intx UseAVX                                   = 2                                    {ARCH product} {default}\n",
            "     bool UseAdaptiveGCBoundary                    = false                                     {product} {default}\n",
            "     bool UseAdaptiveGenerationSizePolicyAtMajorCollection  = true                             {product} {default}\n",
            "     bool UseAdaptiveGenerationSizePolicyAtMinorCollection  = true                             {product} {default}\n",
            "     bool UseAdaptiveNUMAChunkSizing               = true                                      {product} {default}\n",
            "     bool UseAdaptiveSizeDecayMajorGCCost          = true                                      {product} {default}\n",
            "     bool UseAdaptiveSizePolicy                    = true                                      {product} {default}\n",
            "     bool UseAdaptiveSizePolicyFootprintGoal       = true                                      {product} {default}\n",
            "     bool UseAdaptiveSizePolicyWithSystemGC        = false                                     {product} {default}\n",
            "     bool UseAddressNop                            = true                                 {ARCH product} {default}\n",
            "     bool UseBASE64Intrinsics                      = false                                     {product} {default}\n",
            "     bool UseBMI1Instructions                      = true                                 {ARCH product} {default}\n",
            "     bool UseBMI2Instructions                      = true                                 {ARCH product} {default}\n",
            "     bool UseBiasedLocking                         = true                                      {product} {default}\n",
            "     bool UseBimorphicInlining                     = true                                   {C2 product} {default}\n",
            "     bool UseCLMUL                                 = true                                 {ARCH product} {default}\n",
            "     bool UseCMSBestFit                            = true                                      {product} {default}\n",
            "     bool UseCMSInitiatingOccupancyOnly            = false                                     {product} {default}\n",
            "     bool UseCMoveUnconditionally                  = false                                  {C2 product} {default}\n",
            "     bool UseCodeAging                             = true                                      {product} {default}\n",
            "     bool UseCodeCacheFlushing                     = true                                      {product} {default}\n",
            "     bool UseCompiler                              = true                                      {product} {default}\n",
            "     bool UseCompressedClassPointers               = true                                 {lp64_product} {ergonomic}\n",
            "     bool UseCompressedOops                        = true                                 {lp64_product} {ergonomic}\n",
            "     bool UseConcMarkSweepGC                       = false                                     {product} {default}\n",
            "     bool UseCondCardMark                          = false                                     {product} {default}\n",
            "     bool UseContainerCpuShares                    = false                                     {product} {default}\n",
            "     bool UseContainerSupport                      = true                                      {product} {default}\n",
            "     bool UseCountLeadingZerosInstruction          = true                                 {ARCH product} {default}\n",
            "     bool UseCountTrailingZerosInstruction         = true                                 {ARCH product} {default}\n",
            "     bool UseCountedLoopSafepoints                 = true                                   {C2 product} {default}\n",
            "     bool UseCounterDecay                          = true                                      {product} {default}\n",
            "     bool UseDivMod                                = true                                   {C2 product} {default}\n",
            "     bool UseDynamicNumberOfCompilerThreads        = true                                      {product} {default}\n",
            "     bool UseDynamicNumberOfGCThreads              = true                                      {product} {default}\n",
            "     bool UseFMA                                   = true                                      {product} {default}\n",
            "     bool UseFPUForSpilling                        = true                                   {C2 product} {default}\n",
            "     bool UseFastJNIAccessors                      = true                                      {product} {default}\n",
            "     bool UseFastStosb                             = false                                {ARCH product} {default}\n",
            "     bool UseG1GC                                  = true                                      {product} {ergonomic}\n",
            "     bool UseGCOverheadLimit                       = true                                      {product} {default}\n",
            "     bool UseGCTaskAffinity                        = false                                     {product} {default}\n",
            "     bool UseHeavyMonitors                         = false                                     {product} {default}\n",
            "     bool UseHugeTLBFS                             = false                                     {product} {default}\n",
            "     bool UseInlineCaches                          = true                                      {product} {default}\n",
            "     bool UseInterpreter                           = true                                      {product} {default}\n",
            "     bool UseJumpTables                            = true                                   {C2 product} {default}\n",
            "     bool UseLWPSynchronization                    = true                                      {product} {default}\n",
            "     bool UseLargePages                            = false                                  {pd product} {default}\n",
            "     bool UseLargePagesInMetaspace                 = false                                     {product} {default}\n",
            "     bool UseLargePagesIndividualAllocation        = false                                  {pd product} {default}\n",
            "     bool UseLegacyJNINameEscaping                 = false                                     {product} {default}\n",
            "     bool UseLinuxPosixThreadCPUClocks             = true                                      {product} {default}\n",
            "     bool UseLoopCounter                           = true                                      {product} {default}\n",
            "     bool UseLoopInvariantCodeMotion               = true                                   {C1 product} {default}\n",
            "     bool UseLoopPredicate                         = true                                   {C2 product} {default}\n",
            "     bool UseMaximumCompactionOnSystemGC           = true                                      {product} {default}\n",
            "     bool UseMembar                                = true                                   {pd product} {default}\n",
            "     bool UseNUMA                                  = false                                     {product} {default}\n",
            "     bool UseNUMAInterleaving                      = false                                     {product} {default}\n",
            "     bool UseNewLongLShift                         = true                                 {ARCH product} {default}\n",
            "     bool UseOSErrorReporting                      = false                                  {pd product} {default}\n",
            "     bool UseOnStackReplacement                    = true                                   {pd product} {default}\n",
            "     bool UseOnlyInlinedBimorphic                  = true                                   {C2 product} {default}\n",
            "     bool UseOprofile                              = false                                     {product} {default}\n",
            "     bool UseOptoBiasInlining                      = true                                   {C2 product} {default}\n",
            "     bool UsePSAdaptiveSurvivorSizePolicy          = true                                      {product} {default}\n",
            "     bool UseParallelGC                            = false                                     {product} {default}\n",
            "     bool UseParallelOldGC                         = false                                     {product} {default}\n",
            "     bool UsePerfData                              = true                                      {product} {default}\n",
            "     bool UsePopCountInstruction                   = true                                      {product} {default}\n",
            "     bool UseProfiledLoopPredicate                 = true                                   {C2 product} {default}\n",
            "     bool UseRDPCForConstantTableBase              = false                                  {C2 product} {default}\n",
            "     bool UseRTMDeopt                              = false                                {ARCH product} {default}\n",
            "     bool UseRTMLocking                            = false                                {ARCH product} {default}\n",
            "     bool UseSHA                                   = true                                      {product} {default}\n",
            "     bool UseSHM                                   = false                                     {product} {default}\n",
            "     intx UseSSE                                   = 4                                         {product} {default}\n",
            "     bool UseSSE42Intrinsics                       = true                                 {ARCH product} {default}\n",
            "     bool UseSerialGC                              = false                                     {product} {default}\n",
            "     bool UseSharedSpaces                          = true                                      {product} {default}\n",
            "     bool UseShenandoahGC                          = false                                     {product} {default}\n",
            "     bool UseSignalChaining                        = true                                      {product} {default}\n",
            "     bool UseStoreImmI16                           = true                                 {ARCH product} {default}\n",
            "     bool UseStringDeduplication                   = false                                     {product} {default}\n",
            "     bool UseSubwordForMaxVector                   = true                                   {C2 product} {default}\n",
            "     bool UseSuperWord                             = true                                   {C2 product} {default}\n",
            "     bool UseTLAB                                  = true                                   {pd product} {default}\n",
            "     bool UseThreadPriorities                      = true                                   {pd product} {default}\n",
            "     bool UseTransparentHugePages                  = false                                     {product} {default}\n",
            "     bool UseTypeProfile                           = true                                      {product} {default}\n",
            "     bool UseTypeSpeculation                       = true                                   {C2 product} {default}\n",
            "     bool UseUnalignedLoadStores                   = true                                 {ARCH product} {default}\n",
            "     bool UseVectorCmov                            = false                                  {C2 product} {default}\n",
            "     bool UseXMMForArrayCopy                       = true                                      {product} {default}\n",
            "     bool UseXMMForObjInit                         = true                                 {ARCH product} {default}\n",
            "     bool UseXmmI2D                                = true                                 {ARCH product} {default}\n",
            "     bool UseXmmI2F                                = true                                 {ARCH product} {default}\n",
            "     bool UseXmmLoadAndClearUpper                  = true                                 {ARCH product} {default}\n",
            "     bool UseXmmRegToRegMoveAll                    = true                                 {ARCH product} {default}\n",
            "     bool VMThreadHintNoPreempt                    = false                                     {product} {default}\n",
            "     intx VMThreadPriority                         = -1                                        {product} {default}\n",
            "     intx VMThreadStackSize                        = 1024                                   {pd product} {default}\n",
            "     intx ValueMapInitialSize                      = 11                                     {C1 product} {default}\n",
            "     intx ValueMapMaxLoopSize                      = 8                                      {C1 product} {default}\n",
            "     intx ValueSearchLimit                         = 1000                                   {C2 product} {default}\n",
            "     bool VerifyMergedCPBytecodes                  = true                                      {product} {default}\n",
            "     bool VerifySharedSpaces                       = false                                     {product} {default}\n",
            "    uintx YoungGenerationSizeIncrement             = 20                                        {product} {default}\n",
            "    uintx YoungGenerationSizeSupplement            = 80                                        {product} {default}\n",
            "    uintx YoungGenerationSizeSupplementDecay       = 8                                         {product} {default}\n",
            "   size_t YoungPLABSize                            = 4096                                      {product} {default}\n",
            "   double ZAllocationSpikeTolerance                = 2.000000                                  {product} {default}\n",
            "     uint ZCollectionInterval                      = 0                                         {product} {default}\n",
            "   double ZFragmentationLimit                      = 25.000000                                 {product} {default}\n",
            "   size_t ZMarkStacksMax                           = 8589934592                                {product} {default}\n",
            "    ccstr ZPath                                    =                                           {product} {default}\n",
            "     bool ZStallOnOutOfMemory                      = true                                      {product} {default}\n",
            "     uint ZStatisticsInterval                      = 10                                        {product} {default}\n",
            "     bool ZeroTLAB                                 = false                                     {product} {default}\n",
            "openjdk version \"11.0.22\" 2024-01-16\n",
            "OpenJDK Runtime Environment (build 11.0.22+7-post-Ubuntu-0ubuntu222.04.1)\n",
            "OpenJDK 64-Bit Server VM (build 11.0.22+7-post-Ubuntu-0ubuntu222.04.1, mixed mode, sharing)\n"
          ]
        }
      ],
      "source": [
        "!java -XX:+PrintFlagsFinal -version"
      ]
    },
    {
      "cell_type": "code",
      "execution_count": 3,
      "metadata": {
        "colab": {
          "base_uri": "https://localhost:8080/"
        },
        "id": "51mBjDk-pVZo",
        "outputId": "6fbe44a2-40e0-4095-b3cb-a21bc6df307f"
      },
      "outputs": [
        {
          "output_type": "stream",
          "name": "stdout",
          "text": [
            "Mounted at /content/drive\n"
          ]
        }
      ],
      "source": [
        "!pip install kaggle\n",
        "!kaggle datasets download -d sunnykakar/spotify-charts-all-audio-data"
      ]
    },
    {
      "cell_type": "code",
      "execution_count": null,
      "metadata": {
        "id": "PKGZPNmxpsna"
      },
      "outputs": [],
      "source": [
        "!unzip spotify-charts-all-audio-data.zip"
      ]
    },
    {
      "cell_type": "code",
      "execution_count": 5,
      "metadata": {
        "colab": {
          "base_uri": "https://localhost:8080/"
        },
        "id": "JNt_EJT2rToy",
        "outputId": "8717a382-a530-497c-d619-d616a4e7504d"
      },
      "outputs": [
        {
          "output_type": "stream",
          "name": "stdout",
          "text": [
            "Collecting pyspark\n",
            "  Downloading pyspark-3.5.1.tar.gz (317.0 MB)\n",
            "\u001b[2K     \u001b[90m━━━━━━━━━━━━━━━━━━━━━━━━━━━━━━━━━━━━━━━━\u001b[0m \u001b[32m317.0/317.0 MB\u001b[0m \u001b[31m4.5 MB/s\u001b[0m eta \u001b[36m0:00:00\u001b[0m\n",
            "\u001b[?25h  Preparing metadata (setup.py) ... \u001b[?25l\u001b[?25hdone\n",
            "Requirement already satisfied: py4j==0.10.9.7 in /usr/local/lib/python3.10/dist-packages (from pyspark) (0.10.9.7)\n",
            "Building wheels for collected packages: pyspark\n",
            "  Building wheel for pyspark (setup.py) ... \u001b[?25l\u001b[?25hdone\n",
            "  Created wheel for pyspark: filename=pyspark-3.5.1-py2.py3-none-any.whl size=317488491 sha256=8a1ffd180fbf7c4ac07ca9b0890e71ecad5dd9836345f395d09bf57ef3d4bc93\n",
            "  Stored in directory: /root/.cache/pip/wheels/80/1d/60/2c256ed38dddce2fdd93be545214a63e02fbd8d74fb0b7f3a6\n",
            "Successfully built pyspark\n",
            "Installing collected packages: pyspark\n",
            "Successfully installed pyspark-3.5.1\n"
          ]
        }
      ],
      "source": [
        "!pip install pyspark"
      ]
    },
    {
      "cell_type": "code",
      "execution_count": 6,
      "metadata": {
        "id": "d0P4tIharJmF",
        "colab": {
          "base_uri": "https://localhost:8080/"
        },
        "outputId": "f55d6ddc-df4c-4867-f9ff-9fac32b434cf"
      },
      "outputs": [
        {
          "output_type": "stream",
          "name": "stderr",
          "text": [
            "/usr/local/lib/python3.10/dist-packages/pyspark/sql/context.py:113: FutureWarning: Deprecated in 3.0.0. Use SparkSession.builder.getOrCreate() instead.\n",
            "  warnings.warn(\n"
          ]
        }
      ],
      "source": [
        "from pyspark import SparkContext\n",
        "from pyspark.sql import SQLContext\n",
        "sc = SparkContext()\n",
        "sqlContext = SQLContext(sc)"
      ]
    },
    {
      "cell_type": "markdown",
      "metadata": {
        "id": "Vmyi3t5osaqw"
      },
      "source": [
        "# Data Exploration"
      ]
    },
    {
      "cell_type": "markdown",
      "metadata": {
        "id": "qqlSlpEMsiXJ"
      },
      "source": [
        "## Preliminary Exploration"
      ]
    },
    {
      "cell_type": "code",
      "execution_count": 7,
      "metadata": {
        "colab": {
          "base_uri": "https://localhost:8080/"
        },
        "id": "TykcjX11sL9_",
        "outputId": "1c80a62d-a9de-4fbe-bfb0-30d44f1e1163"
      },
      "outputs": [
        {
          "output_type": "stream",
          "name": "stdout",
          "text": [
            "root\n",
            " |-- _c0: string (nullable = true)\n",
            " |-- title: string (nullable = true)\n",
            " |-- rank: string (nullable = true)\n",
            " |-- date: string (nullable = true)\n",
            " |-- artist: string (nullable = true)\n",
            " |-- url: string (nullable = true)\n",
            " |-- region: string (nullable = true)\n",
            " |-- chart: string (nullable = true)\n",
            " |-- trend: string (nullable = true)\n",
            " |-- streams: string (nullable = true)\n",
            " |-- track_id: string (nullable = true)\n",
            " |-- album: string (nullable = true)\n",
            " |-- popularity: string (nullable = true)\n",
            " |-- duration_ms: string (nullable = true)\n",
            " |-- explicit: string (nullable = true)\n",
            " |-- release_date: string (nullable = true)\n",
            " |-- available_markets: string (nullable = true)\n",
            " |-- af_danceability: string (nullable = true)\n",
            " |-- af_energy: string (nullable = true)\n",
            " |-- af_key: string (nullable = true)\n",
            " |-- af_loudness: string (nullable = true)\n",
            " |-- af_mode: string (nullable = true)\n",
            " |-- af_speechiness: string (nullable = true)\n",
            " |-- af_acousticness: string (nullable = true)\n",
            " |-- af_instrumentalness: string (nullable = true)\n",
            " |-- af_liveness: string (nullable = true)\n",
            " |-- af_valence: string (nullable = true)\n",
            " |-- af_tempo: string (nullable = true)\n",
            " |-- af_time_signature: string (nullable = true)\n",
            "\n"
          ]
        }
      ],
      "source": [
        "# Inspect schema of an initial load of the data.\n",
        "\n",
        "rawload = sqlContext.read.csv('merged_data.csv', header = True)\n",
        "rawload.printSchema()"
      ]
    },
    {
      "cell_type": "code",
      "execution_count": 8,
      "metadata": {
        "id": "t_M9HeLEsXHI",
        "colab": {
          "base_uri": "https://localhost:8080/"
        },
        "outputId": "aa19094a-5373-4509-84c4-26913568e6e0"
      },
      "outputs": [
        {
          "output_type": "execute_result",
          "data": {
            "text/plain": [
              "[Row(_c0='0', title='Chantaje (feat. Maluma)', rank='1', date='2017-01-01', artist='Shakira', url='https://open.spotify.com/track/6mICuAdrwEjh6Y6lroV2Kg', region='Argentina', chart='top200', trend='SAME_POSITION', streams='253019.0', track_id='6mICuAdrwEjh6Y6lroV2Kg', album='El Dorado', popularity='78.0', duration_ms='195840.0', explicit='False', release_date='2017-05-26', available_markets=\"['AR', 'AU', 'AT', 'BE', 'BO', 'BR', 'BG', 'CA', 'CL', 'CO', 'CR', 'CY', 'CZ', 'DK', 'DO', 'DE', 'EC', 'EE', 'SV', 'FI', 'FR', 'GR', 'GT', 'HN', 'HK', 'HU', 'IS', 'IE', 'IT', 'LV', 'LT', 'LU', 'MY', 'MT', 'MX', 'NL', 'NZ', 'NI', 'NO', 'PA', 'PY', 'PE', 'PH', 'PL', 'PT', 'SG', 'SK', 'ES', 'SE', 'CH', 'TW', 'TR', 'UY', 'US', 'GB', 'AD', 'LI', 'MC', 'ID', 'JP', 'TH', 'VN', 'RO', 'IL', 'ZA', 'SA', 'AE', 'BH', 'QA', 'OM', 'KW', 'EG', 'MA', 'DZ', 'TN', 'LB', 'JO', 'PS', 'IN', 'BY', 'KZ', 'MD', 'UA', 'AL', 'BA', 'HR', 'ME', 'MK', 'RS', 'SI', 'KR', 'BD', 'PK', 'LK', 'GH', 'KE', 'NG', 'TZ', 'UG', 'AG', 'AM', 'BS', 'BB', 'BZ', 'BT', 'BW', 'BF', 'CV', 'CW', 'DM', 'FJ', 'GM', 'GE', 'GD', 'GW', 'GY', 'HT', 'JM', 'KI', 'LS', 'LR', 'MW', 'MV', 'ML', 'MH', 'FM', 'NA', 'NR', 'NE', 'PW', 'PG', 'PR', 'WS', 'SM', 'ST', 'SN', 'SC', 'SL', 'SB', 'KN', 'LC', 'VC', 'SR', 'TL', 'TO', 'TT', 'TV', 'VU', 'AZ', 'BN', 'BI', 'KH', 'CM', 'TD', 'KM', 'GQ', 'SZ', 'GA', 'GN', 'KG', 'LA', 'MO', 'MR', 'MN', 'NP', 'RW', 'TG', 'UZ', 'ZW', 'BJ', 'MG', 'MU', 'MZ', 'AO', 'CI', 'DJ', 'ZM', 'CD', 'CG', 'IQ', 'LY', 'TJ', 'VE', 'ET', 'XK']\", af_danceability='0.852', af_energy='0.773', af_key='8.0', af_loudness='-2.921', af_mode='0.0', af_speechiness='0.0776', af_acousticness='0.187', af_instrumentalness='3.05e-05', af_liveness='0.159', af_valence='0.907', af_tempo='102.034', af_time_signature='4.0'),\n",
              " Row(_c0='1', title=\"Vente Pa' Ca (feat. Maluma)\", rank='2', date='2017-01-01', artist='Ricky Martin', url='https://open.spotify.com/track/7DM4BPaS7uofFul3ywMe46', region='Argentina', chart='top200', trend='MOVE_UP', streams='223988.0', track_id='7DM4BPaS7uofFul3ywMe46', album=\"Vente Pa' Ca (feat. Maluma)\", popularity='72.0', duration_ms='259195.0', explicit='False', release_date='2016-09-22', available_markets=\"['AR', 'AU', 'AT', 'BE', 'BO', 'BR', 'BG', 'CA', 'CL', 'CO', 'CR', 'CY', 'CZ', 'DK', 'DO', 'DE', 'EC', 'EE', 'SV', 'FI', 'FR', 'GR', 'GT', 'HN', 'HK', 'HU', 'IS', 'IE', 'IT', 'LV', 'LT', 'LU', 'MY', 'MT', 'MX', 'NL', 'NZ', 'NI', 'NO', 'PA', 'PY', 'PE', 'PH', 'PL', 'PT', 'SG', 'SK', 'ES', 'SE', 'CH', 'TW', 'TR', 'UY', 'US', 'GB', 'AD', 'LI', 'MC', 'ID', 'JP', 'TH', 'VN', 'RO', 'IL', 'ZA', 'SA', 'AE', 'BH', 'QA', 'OM', 'KW', 'EG', 'MA', 'DZ', 'TN', 'LB', 'JO', 'PS', 'IN', 'BY', 'KZ', 'MD', 'UA', 'AL', 'BA', 'HR', 'ME', 'MK', 'RS', 'SI', 'KR', 'BD', 'PK', 'LK', 'GH', 'KE', 'NG', 'TZ', 'UG', 'AG', 'AM', 'BS', 'BB', 'BZ', 'BT', 'BW', 'BF', 'CV', 'CW', 'DM', 'FJ', 'GM', 'GE', 'GD', 'GW', 'GY', 'HT', 'JM', 'KI', 'LS', 'LR', 'MW', 'MV', 'ML', 'MH', 'FM', 'NA', 'NR', 'NE', 'PW', 'PG', 'PR', 'WS', 'SM', 'ST', 'SN', 'SC', 'SL', 'SB', 'KN', 'LC', 'VC', 'SR', 'TL', 'TO', 'TT', 'TV', 'VU', 'AZ', 'BN', 'BI', 'KH', 'CM', 'TD', 'KM', 'GQ', 'SZ', 'GA', 'GN', 'KG', 'LA', 'MO', 'MR', 'MN', 'NP', 'RW', 'TG', 'UZ', 'ZW', 'BJ', 'MG', 'MU', 'MZ', 'AO', 'CI', 'DJ', 'ZM', 'CD', 'CG', 'IQ', 'LY', 'TJ', 'VE', 'ET', 'XK']\", af_danceability='0.663', af_energy='0.92', af_key='11.0', af_loudness='-4.07', af_mode='0.0', af_speechiness='0.226', af_acousticness='0.00431', af_instrumentalness='1.69e-05', af_liveness='0.101', af_valence='0.533', af_tempo='99.935', af_time_signature='4.0'),\n",
              " Row(_c0='2', title='Reggaetón Lento (Bailemos)', rank='3', date='2017-01-01', artist='CNCO', url='https://open.spotify.com/track/3AEZUABDXNtecAOSC1qTfo', region='Argentina', chart='top200', trend='MOVE_DOWN', streams='210943.0', track_id='3AEZUABDXNtecAOSC1qTfo', album='Primera Cita', popularity='73.0', duration_ms='222560.0', explicit='False', release_date='2016-08-26', available_markets=\"['AR', 'AU', 'AT', 'BE', 'BO', 'BG', 'CA', 'CL', 'CO', 'CR', 'CY', 'CZ', 'DK', 'DO', 'DE', 'EC', 'EE', 'SV', 'FI', 'FR', 'GR', 'GT', 'HN', 'HK', 'HU', 'IS', 'IE', 'IT', 'LV', 'LT', 'LU', 'MY', 'MT', 'MX', 'NL', 'NZ', 'NI', 'NO', 'PA', 'PY', 'PE', 'PH', 'PL', 'PT', 'SG', 'SK', 'ES', 'SE', 'CH', 'TW', 'TR', 'UY', 'US', 'GB', 'AD', 'LI', 'MC', 'ID', 'JP', 'TH', 'VN', 'RO', 'IL', 'ZA', 'SA', 'AE', 'BH', 'QA', 'OM', 'KW', 'EG', 'MA', 'DZ', 'TN', 'LB', 'JO', 'PS', 'IN', 'BY', 'KZ', 'MD', 'UA', 'AL', 'BA', 'HR', 'ME', 'MK', 'RS', 'SI', 'KR', 'BD', 'PK', 'LK', 'GH', 'KE', 'NG', 'TZ', 'UG', 'AG', 'AM', 'BS', 'BB', 'BZ', 'BT', 'BW', 'BF', 'CV', 'CW', 'DM', 'FJ', 'GM', 'GE', 'GD', 'GW', 'GY', 'HT', 'JM', 'KI', 'LS', 'LR', 'MW', 'MV', 'ML', 'MH', 'FM', 'NA', 'NR', 'NE', 'PW', 'PG', 'PR', 'WS', 'SM', 'ST', 'SN', 'SC', 'SL', 'SB', 'KN', 'LC', 'VC', 'SR', 'TL', 'TO', 'TT', 'TV', 'VU', 'AZ', 'BN', 'BI', 'KH', 'CM', 'TD', 'KM', 'GQ', 'SZ', 'GA', 'GN', 'KG', 'LA', 'MO', 'MR', 'MN', 'NP', 'RW', 'TG', 'UZ', 'ZW', 'BJ', 'MG', 'MU', 'MZ', 'AO', 'CI', 'DJ', 'ZM', 'CD', 'CG', 'IQ', 'LY', 'TJ', 'VE', 'ET', 'XK']\", af_danceability='0.761', af_energy='0.838', af_key='4.0', af_loudness='-3.073', af_mode='0.0', af_speechiness='0.0502', af_acousticness='0.4', af_instrumentalness='0.0', af_liveness='0.176', af_valence='0.71', af_tempo='93.974', af_time_signature='4.0'),\n",
              " Row(_c0='3', title='Safari', rank='4', date='2017-01-01', artist='J Balvin, Pharrell Williams, BIA, Sky', url='https://open.spotify.com/track/6rQSrBHf7HlZjtcMZ4S4bO', region='Argentina', chart='top200', trend='SAME_POSITION', streams='173865.0', track_id='6rQSrBHf7HlZjtcMZ4S4bO', album='Energía', popularity='0.0', duration_ms='205600.0', explicit='False', release_date='2016-06-24', available_markets='[]', af_danceability='0.508', af_energy='0.687', af_key='0.0', af_loudness='-4.361', af_mode='1.0', af_speechiness='0.326', af_acousticness='0.551', af_instrumentalness='3.41e-06', af_liveness='0.126', af_valence='0.555', af_tempo='180.044', af_time_signature='4.0'),\n",
              " Row(_c0='4', title='Shaky Shaky', rank='5', date='2017-01-01', artist='Daddy Yankee', url='https://open.spotify.com/track/58IL315gMSTD37DOZPJ2hf', region='Argentina', chart='top200', trend='MOVE_UP', streams='153956.0', track_id='58IL315gMSTD37DOZPJ2hf', album='Shaky Shaky', popularity='0.0', duration_ms='234320.0', explicit='False', release_date='2016-04-08', available_markets='[]', af_danceability='0.899', af_energy='0.626', af_key='6.0', af_loudness='-4.228', af_mode='0.0', af_speechiness='0.292', af_acousticness='0.076', af_instrumentalness='0.0', af_liveness='0.0631', af_valence='0.873', af_tempo='88.007', af_time_signature='4.0')]"
            ]
          },
          "metadata": {},
          "execution_count": 8
        }
      ],
      "source": [
        "# Show the first 5 rows of raw data\n",
        "rawload.head(5)"
      ]
    },
    {
      "cell_type": "code",
      "execution_count": 9,
      "metadata": {
        "id": "VslcOkNisulZ"
      },
      "outputs": [],
      "source": [
        "# Rename the first column, which refers to a primary key that was blandly named '_c0' by default.\n",
        "\n",
        "df = rawload.withColumnRenamed('_c0', 'ID')"
      ]
    },
    {
      "cell_type": "code",
      "execution_count": 10,
      "metadata": {
        "colab": {
          "base_uri": "https://localhost:8080/"
        },
        "id": "OJSKf2uMs0F4",
        "outputId": "261ee2db-f611-4576-9c7a-052cb48e89ab"
      },
      "outputs": [
        {
          "output_type": "stream",
          "name": "stdout",
          "text": [
            "There are 26174269 observations in this dataset.\n"
          ]
        }
      ],
      "source": [
        "# Count observations in the dataset.\n",
        "\n",
        "df_ct = df.count()\n",
        "print(f'There are {df_ct} observations in this dataset.')"
      ]
    },
    {
      "cell_type": "markdown",
      "metadata": {
        "id": "vj3dBplbuawv"
      },
      "source": [
        "## Getting Summary Statistics for Numeric Attributes"
      ]
    },
    {
      "cell_type": "code",
      "execution_count": 11,
      "metadata": {
        "id": "mEJzY7GtuZAf",
        "colab": {
          "base_uri": "https://localhost:8080/"
        },
        "outputId": "7d389fa1-493f-4f09-8b1f-d900fa315622"
      },
      "outputs": [
        {
          "output_type": "stream",
          "name": "stdout",
          "text": [
            "SAMPLE OBSERVATION:\n",
            "\n",
            "[Row(ID='0', title='Chantaje (feat. Maluma)', rank='1', date='2017-01-01', artist='Shakira', url='https://open.spotify.com/track/6mICuAdrwEjh6Y6lroV2Kg', region='Argentina', chart='top200', trend='SAME_POSITION', streams='253019.0', track_id='6mICuAdrwEjh6Y6lroV2Kg', album='El Dorado', popularity='78.0', duration_ms='195840.0', explicit='False', release_date='2017-05-26', available_markets=\"['AR', 'AU', 'AT', 'BE', 'BO', 'BR', 'BG', 'CA', 'CL', 'CO', 'CR', 'CY', 'CZ', 'DK', 'DO', 'DE', 'EC', 'EE', 'SV', 'FI', 'FR', 'GR', 'GT', 'HN', 'HK', 'HU', 'IS', 'IE', 'IT', 'LV', 'LT', 'LU', 'MY', 'MT', 'MX', 'NL', 'NZ', 'NI', 'NO', 'PA', 'PY', 'PE', 'PH', 'PL', 'PT', 'SG', 'SK', 'ES', 'SE', 'CH', 'TW', 'TR', 'UY', 'US', 'GB', 'AD', 'LI', 'MC', 'ID', 'JP', 'TH', 'VN', 'RO', 'IL', 'ZA', 'SA', 'AE', 'BH', 'QA', 'OM', 'KW', 'EG', 'MA', 'DZ', 'TN', 'LB', 'JO', 'PS', 'IN', 'BY', 'KZ', 'MD', 'UA', 'AL', 'BA', 'HR', 'ME', 'MK', 'RS', 'SI', 'KR', 'BD', 'PK', 'LK', 'GH', 'KE', 'NG', 'TZ', 'UG', 'AG', 'AM', 'BS', 'BB', 'BZ', 'BT', 'BW', 'BF', 'CV', 'CW', 'DM', 'FJ', 'GM', 'GE', 'GD', 'GW', 'GY', 'HT', 'JM', 'KI', 'LS', 'LR', 'MW', 'MV', 'ML', 'MH', 'FM', 'NA', 'NR', 'NE', 'PW', 'PG', 'PR', 'WS', 'SM', 'ST', 'SN', 'SC', 'SL', 'SB', 'KN', 'LC', 'VC', 'SR', 'TL', 'TO', 'TT', 'TV', 'VU', 'AZ', 'BN', 'BI', 'KH', 'CM', 'TD', 'KM', 'GQ', 'SZ', 'GA', 'GN', 'KG', 'LA', 'MO', 'MR', 'MN', 'NP', 'RW', 'TG', 'UZ', 'ZW', 'BJ', 'MG', 'MU', 'MZ', 'AO', 'CI', 'DJ', 'ZM', 'CD', 'CG', 'IQ', 'LY', 'TJ', 'VE', 'ET', 'XK']\", af_danceability='0.852', af_energy='0.773', af_key='8.0', af_loudness='-2.921', af_mode='0.0', af_speechiness='0.0776', af_acousticness='0.187', af_instrumentalness='3.05e-05', af_liveness='0.159', af_valence='0.907', af_tempo='102.034', af_time_signature='4.0')]\n"
          ]
        }
      ],
      "source": [
        "# As the above schema shows, all attributes assume the string type, even though many of them are numeric. View a\n",
        "# single observation to determine which attributes are numeric.\n",
        "\n",
        "print(f'SAMPLE OBSERVATION:\\n\\n{df.take(1)}')"
      ]
    },
    {
      "cell_type": "code",
      "execution_count": 12,
      "metadata": {
        "id": "Mw6dyjUjuZrS",
        "colab": {
          "base_uri": "https://localhost:8080/"
        },
        "outputId": "c0c8c0f4-64a6-4c8e-a77e-461dc996f571"
      },
      "outputs": [
        {
          "output_type": "stream",
          "name": "stdout",
          "text": [
            "+---+----+--------+----------+-----------+---------------+---------+------+-----------+-------+--------------+---------------+-------------------+-----------+----------+--------+-----------------+\n",
            "| ID|rank| streams|popularity|duration_ms|af_danceability|af_energy|af_key|af_loudness|af_mode|af_speechiness|af_acousticness|af_instrumentalness|af_liveness|af_valence|af_tempo|af_time_signature|\n",
            "+---+----+--------+----------+-----------+---------------+---------+------+-----------+-------+--------------+---------------+-------------------+-----------+----------+--------+-----------------+\n",
            "|  0|   1|253019.0|      78.0|   195840.0|          0.852|    0.773|   8.0|     -2.921|    0.0|        0.0776|          0.187|           3.05e-05|      0.159|     0.907| 102.034|              4.0|\n",
            "|  1|   2|223988.0|      72.0|   259195.0|          0.663|     0.92|  11.0|      -4.07|    0.0|         0.226|        0.00431|           1.69e-05|      0.101|     0.533|  99.935|              4.0|\n",
            "|  2|   3|210943.0|      73.0|   222560.0|          0.761|    0.838|   4.0|     -3.073|    0.0|        0.0502|            0.4|                0.0|      0.176|      0.71|  93.974|              4.0|\n",
            "|  3|   4|173865.0|       0.0|   205600.0|          0.508|    0.687|   0.0|     -4.361|    1.0|         0.326|          0.551|           3.41e-06|      0.126|     0.555| 180.044|              4.0|\n",
            "|  4|   5|153956.0|       0.0|   234320.0|          0.899|    0.626|   6.0|     -4.228|    0.0|         0.292|          0.076|                0.0|     0.0631|     0.873|  88.007|              4.0|\n",
            "+---+----+--------+----------+-----------+---------------+---------+------+-----------+-------+--------------+---------------+-------------------+-----------+----------+--------+-----------------+\n",
            "only showing top 5 rows\n",
            "\n"
          ]
        }
      ],
      "source": [
        "# Evaluating the above observation allows us to establish which attributes are numeric.\n",
        "\n",
        "numeric_attributes = ['ID', 'rank', 'streams', 'popularity', 'duration_ms', 'af_danceability', 'af_energy',\n",
        "                      'af_key', 'af_loudness', 'af_mode', 'af_speechiness', 'af_acousticness',\n",
        "                      'af_instrumentalness', 'af_liveness', 'af_valence', 'af_tempo',  'af_time_signature']\n",
        "df[numeric_attributes].show(5)"
      ]
    },
    {
      "cell_type": "code",
      "execution_count": 13,
      "metadata": {
        "id": "k4kxuUppuxJe"
      },
      "outputs": [],
      "source": [
        "# We'll have to cast numeric attributes to floats to explore these attributes.\n",
        "\n",
        "df = df.withColumns(dict(zip(numeric_attributes, [df[attribute].cast('float') for attribute in\n",
        "                                                  numeric_attributes])))"
      ]
    },
    {
      "cell_type": "code",
      "execution_count": 14,
      "metadata": {
        "id": "VlgIBYAnu1YH",
        "colab": {
          "base_uri": "https://localhost:8080/"
        },
        "outputId": "b300a61c-28b7-4dde-f04e-5e9280b100f6"
      },
      "outputs": [
        {
          "output_type": "stream",
          "name": "stdout",
          "text": [
            "UPDATED SCHEMA:\n",
            "\n",
            "root\n",
            " |-- ID: float (nullable = true)\n",
            " |-- title: string (nullable = true)\n",
            " |-- rank: float (nullable = true)\n",
            " |-- date: string (nullable = true)\n",
            " |-- artist: string (nullable = true)\n",
            " |-- url: string (nullable = true)\n",
            " |-- region: string (nullable = true)\n",
            " |-- chart: string (nullable = true)\n",
            " |-- trend: string (nullable = true)\n",
            " |-- streams: float (nullable = true)\n",
            " |-- track_id: string (nullable = true)\n",
            " |-- album: string (nullable = true)\n",
            " |-- popularity: float (nullable = true)\n",
            " |-- duration_ms: float (nullable = true)\n",
            " |-- explicit: string (nullable = true)\n",
            " |-- release_date: string (nullable = true)\n",
            " |-- available_markets: string (nullable = true)\n",
            " |-- af_danceability: float (nullable = true)\n",
            " |-- af_energy: float (nullable = true)\n",
            " |-- af_key: float (nullable = true)\n",
            " |-- af_loudness: float (nullable = true)\n",
            " |-- af_mode: float (nullable = true)\n",
            " |-- af_speechiness: float (nullable = true)\n",
            " |-- af_acousticness: float (nullable = true)\n",
            " |-- af_instrumentalness: float (nullable = true)\n",
            " |-- af_liveness: float (nullable = true)\n",
            " |-- af_valence: float (nullable = true)\n",
            " |-- af_tempo: float (nullable = true)\n",
            " |-- af_time_signature: float (nullable = true)\n",
            "\n",
            "\n",
            "\n",
            "SAMPLE OBSERVATION:\n",
            "\n",
            "[Row(ID=0.0, title='Chantaje (feat. Maluma)', rank=1.0, date='2017-01-01', artist='Shakira', url='https://open.spotify.com/track/6mICuAdrwEjh6Y6lroV2Kg', region='Argentina', chart='top200', trend='SAME_POSITION', streams=253019.0, track_id='6mICuAdrwEjh6Y6lroV2Kg', album='El Dorado', popularity=78.0, duration_ms=195840.0, explicit='False', release_date='2017-05-26', available_markets=\"['AR', 'AU', 'AT', 'BE', 'BO', 'BR', 'BG', 'CA', 'CL', 'CO', 'CR', 'CY', 'CZ', 'DK', 'DO', 'DE', 'EC', 'EE', 'SV', 'FI', 'FR', 'GR', 'GT', 'HN', 'HK', 'HU', 'IS', 'IE', 'IT', 'LV', 'LT', 'LU', 'MY', 'MT', 'MX', 'NL', 'NZ', 'NI', 'NO', 'PA', 'PY', 'PE', 'PH', 'PL', 'PT', 'SG', 'SK', 'ES', 'SE', 'CH', 'TW', 'TR', 'UY', 'US', 'GB', 'AD', 'LI', 'MC', 'ID', 'JP', 'TH', 'VN', 'RO', 'IL', 'ZA', 'SA', 'AE', 'BH', 'QA', 'OM', 'KW', 'EG', 'MA', 'DZ', 'TN', 'LB', 'JO', 'PS', 'IN', 'BY', 'KZ', 'MD', 'UA', 'AL', 'BA', 'HR', 'ME', 'MK', 'RS', 'SI', 'KR', 'BD', 'PK', 'LK', 'GH', 'KE', 'NG', 'TZ', 'UG', 'AG', 'AM', 'BS', 'BB', 'BZ', 'BT', 'BW', 'BF', 'CV', 'CW', 'DM', 'FJ', 'GM', 'GE', 'GD', 'GW', 'GY', 'HT', 'JM', 'KI', 'LS', 'LR', 'MW', 'MV', 'ML', 'MH', 'FM', 'NA', 'NR', 'NE', 'PW', 'PG', 'PR', 'WS', 'SM', 'ST', 'SN', 'SC', 'SL', 'SB', 'KN', 'LC', 'VC', 'SR', 'TL', 'TO', 'TT', 'TV', 'VU', 'AZ', 'BN', 'BI', 'KH', 'CM', 'TD', 'KM', 'GQ', 'SZ', 'GA', 'GN', 'KG', 'LA', 'MO', 'MR', 'MN', 'NP', 'RW', 'TG', 'UZ', 'ZW', 'BJ', 'MG', 'MU', 'MZ', 'AO', 'CI', 'DJ', 'ZM', 'CD', 'CG', 'IQ', 'LY', 'TJ', 'VE', 'ET', 'XK']\", af_danceability=0.8519999980926514, af_energy=0.7730000019073486, af_key=8.0, af_loudness=-2.9210000038146973, af_mode=0.0, af_speechiness=0.07760000228881836, af_acousticness=0.18700000643730164, af_instrumentalness=3.0499999411404133e-05, af_liveness=0.1589999943971634, af_valence=0.9070000052452087, af_tempo=102.03399658203125, af_time_signature=4.0)]\n"
          ]
        }
      ],
      "source": [
        "# Confirm that type casting was correctly implemented.\n",
        "\n",
        "print('UPDATED SCHEMA:\\n')\n",
        "df.printSchema()\n",
        "print(f'\\n\\nSAMPLE OBSERVATION:\\n\\n{df.take(1)}')"
      ]
    },
    {
      "cell_type": "code",
      "execution_count": 15,
      "metadata": {
        "id": "NeXL9tVMu5f-"
      },
      "outputs": [],
      "source": [
        "# Now that we've casted numeric attributes to floats, we can generate summary statistics for them.\n",
        "\n",
        "nas = df[numeric_attributes].describe()"
      ]
    },
    {
      "cell_type": "code",
      "execution_count": null,
      "metadata": {
        "colab": {
          "base_uri": "https://localhost:8080/"
        },
        "id": "49QsKatju8PD",
        "outputId": "0f5033df-1f3e-4282-9ca7-dd1605e48e85"
      },
      "outputs": [
        {
          "output_type": "stream",
          "name": "stdout",
          "text": [
            "+-------+-----------------+\n",
            "|summary|               ID|\n",
            "+-------+-----------------+\n",
            "|  count|         26174269|\n",
            "|   mean|      1.3087134E7|\n",
            "| stddev|7555860.770833806|\n",
            "|    min|              0.0|\n",
            "|    max|      2.6174268E7|\n",
            "+-------+-----------------+\n",
            "\n",
            "+-------+------------------+\n",
            "|summary|              rank|\n",
            "+-------+------------------+\n",
            "|  count|          26172127|\n",
            "|   mean|  80.9233979339929|\n",
            "| stddev|59.185732716119134|\n",
            "|    min|               1.0|\n",
            "|    max|             200.0|\n",
            "+-------+------------------+\n",
            "\n",
            "+-------+------------------+\n",
            "|summary|           streams|\n",
            "+-------+------------------+\n",
            "|  count|          20318240|\n",
            "|   mean|55266.480036705936|\n",
            "| stddev|209601.75006362287|\n",
            "|    min|            1001.0|\n",
            "|    max|       1.9749704E7|\n",
            "+-------+------------------+\n",
            "\n",
            "+-------+-----------------+\n",
            "|summary|       popularity|\n",
            "+-------+-----------------+\n",
            "|  count|         25853279|\n",
            "|   mean|46.71695659958646|\n",
            "| stddev|32.81488206233617|\n",
            "|    min|              0.0|\n",
            "|    max|          19176.0|\n",
            "+-------+-----------------+\n",
            "\n",
            "+-------+------------------+\n",
            "|summary|       duration_ms|\n",
            "+-------+------------------+\n",
            "|  count|          25867502|\n",
            "|   mean|209123.03448782954|\n",
            "| stddev|51667.759052543384|\n",
            "|    min|               0.0|\n",
            "|    max|         9318296.0|\n",
            "+-------+------------------+\n",
            "\n",
            "+-------+------------------+\n",
            "|summary|   af_danceability|\n",
            "+-------+------------------+\n",
            "|  count|          25853466|\n",
            "|   mean|2.0595610216256315|\n",
            "| stddev| 526.1438147899456|\n",
            "|    min|               0.0|\n",
            "|    max|          201655.0|\n",
            "+-------+------------------+\n",
            "\n",
            "+-------+------------------+\n",
            "|summary|         af_energy|\n",
            "+-------+------------------+\n",
            "|  count|          25867615|\n",
            "|   mean|1.2516711805628786|\n",
            "| stddev| 517.2946346368159|\n",
            "|    min|               0.0|\n",
            "|    max|          443404.0|\n",
            "+-------+------------------+\n",
            "\n",
            "+-------+-----------------+\n",
            "|summary|           af_key|\n",
            "+-------+-----------------+\n",
            "|  count|         25869755|\n",
            "|   mean|6.269610899260092|\n",
            "| stddev|542.9296515249761|\n",
            "|    min|              0.0|\n",
            "|    max|         314697.0|\n",
            "+-------+-----------------+\n",
            "\n"
          ]
        }
      ],
      "source": [
        "# We can display summary statistics in a visually appealing format by implementing the following.\n",
        "\n",
        "for attribute in numeric_attributes:\n",
        "    nas[['summary', attribute]].show()"
      ]
    },
    {
      "cell_type": "markdown",
      "metadata": {
        "id": "CBCN2GXkyThP"
      },
      "source": [
        "## Missing Data"
      ]
    },
    {
      "cell_type": "code",
      "execution_count": null,
      "metadata": {
        "colab": {
          "background_save": true
        },
        "id": "JYVVUQ9lyUBT"
      },
      "outputs": [],
      "source": [
        "# Determine how many null values there are per attribute.\n",
        "\n",
        "nulls_dict = {}\n",
        "for attribute in df.columns:\n",
        "    null_IDs = df[['ID']].where(df[attribute].isNull())\n",
        "    nulls_dict[attribute] = (null_IDs, null_IDs.count())\n",
        "    print(f'Attribute \"{attribute}\" contains {nulls_dict[attribute][1]} nulls. {(nulls_dict[attribute][1]/df_ct)*100}%')"
      ]
    },
    {
      "cell_type": "code",
      "execution_count": null,
      "metadata": {
        "colab": {
          "background_save": true
        },
        "id": "w-ih499e0QTP"
      },
      "outputs": [],
      "source": [
        "#Exploring categorical data\n",
        "\n",
        "categorical_columns = ['region', 'chart', 'trend', 'explicit']\n",
        "for column in categorical_columns:\n",
        "    df.groupBy(column).count().orderBy('count', ascending=False).show()"
      ]
    },
    {
      "cell_type": "code",
      "execution_count": null,
      "metadata": {
        "colab": {
          "background_save": true
        },
        "id": "M0XIRPHN28de"
      },
      "outputs": [],
      "source": [
        "#The outputs above can give us a hint on what we can remove from dataset"
      ]
    },
    {
      "cell_type": "markdown",
      "metadata": {
        "id": "JUCuWQ4Q4sTx"
      },
      "source": [
        "## Data Visualization"
      ]
    },
    {
      "cell_type": "markdown",
      "metadata": {
        "id": "hZfYCwGB46Bw"
      },
      "source": [
        "### Popularity vs Streams"
      ]
    },
    {
      "cell_type": "code",
      "execution_count": null,
      "metadata": {
        "colab": {
          "background_save": true
        },
        "id": "pVozUEfM49lT"
      },
      "outputs": [],
      "source": [
        "import pandas as pd\n",
        "import matplotlib.pyplot as plt\n",
        "from pyspark.sql.functions import col\n",
        "\n",
        "# Select subset of data\n",
        "data_subset = df.select(\"popularity\", \"streams\").dropna().sample(fraction=0.2)\n",
        "\n",
        "pandas_df = data_subset.toPandas()"
      ]
    },
    {
      "cell_type": "code",
      "execution_count": null,
      "metadata": {
        "colab": {
          "background_save": true
        },
        "id": "WsQT6X3f5uq-"
      },
      "outputs": [],
      "source": [
        "plt.figure(figsize=(10, 6))\n",
        "plt.scatter(pandas_df['popularity'], pandas_df['streams'], alpha=0.5)\n",
        "plt.title('Popularity vs Streams')\n",
        "plt.xlabel('Popularity')\n",
        "plt.ylabel('Streams')\n",
        "plt.grid(True)\n",
        "plt.show()"
      ]
    },
    {
      "cell_type": "markdown",
      "metadata": {
        "id": "AjkvkR3q7s8I"
      },
      "source": [
        "###Duration vs Popularity"
      ]
    },
    {
      "cell_type": "code",
      "execution_count": null,
      "metadata": {
        "colab": {
          "background_save": true
        },
        "id": "Qz4uxQbi7wS7"
      },
      "outputs": [],
      "source": [
        "data_subset = df.select(\n",
        "    col(\"duration_ms\"),\n",
        "    col(\"popularity\")\n",
        ").na.drop()\n",
        "\n",
        "sampled_data = data_subset.sample(fraction=0.1)\n",
        "pandas_df = sampled_data.toPandas()\n",
        "\n",
        "plt.figure(figsize=(10, 6))\n",
        "plt.scatter(pandas_df['duration_ms'], pandas_df['popularity'], alpha=0.5, color='green')\n",
        "plt.title('Track Duration vs Popularity')\n",
        "plt.xlabel('Duration in milliseconds')\n",
        "plt.ylabel('Popularity')\n",
        "plt.grid(True)\n",
        "plt.show()"
      ]
    },
    {
      "cell_type": "markdown",
      "metadata": {
        "id": "yiTcNCmn8SEE"
      },
      "source": [
        "### Stream vs Explicitness"
      ]
    },
    {
      "cell_type": "code",
      "execution_count": null,
      "metadata": {
        "id": "aoVl00mi8U-U"
      },
      "outputs": [],
      "source": [
        "explicit_streams = df.select(\n",
        "    col(\"explicit\"),\n",
        "    col(\"streams\")\n",
        ").na.drop()\n",
        "\n",
        "sampled_explicit_streams = explicit_streams.sample(fraction=0.1)\n",
        "\n",
        "# Collect and plot\n",
        "pandas_explicit_streams = sampled_explicit_streams.toPandas()\n",
        "\n",
        "plt.figure(figsize=(10, 6))\n",
        "plt.scatter(pandas_explicit_streams['explicit'], pandas_explicit_streams['streams'], alpha=0.5, color='red')\n",
        "plt.title('Streams vs Explicitness')\n",
        "plt.xlabel('Explicit')\n",
        "plt.ylabel('Streams')\n",
        "plt.grid(True)\n",
        "plt.show()"
      ]
    },
    {
      "cell_type": "markdown",
      "metadata": {
        "id": "bCgMT5Eq8mzm"
      },
      "source": [
        "###Popularity vs Region"
      ]
    },
    {
      "cell_type": "code",
      "execution_count": null,
      "metadata": {
        "id": "iL1dCYxf8pir"
      },
      "outputs": [],
      "source": [
        "region_popularity = df.groupBy(\"region\").agg(avg(\"popularity\").alias(\"avg_popularity\")).na.drop()\n",
        "\n",
        "sampled_region_popularity = region_popularity.sample(fraction=0.4)\n",
        "\n",
        "pandas_region_popularity = sampled_region_popularity.toPandas()\n",
        "\n",
        "plt.figure(figsize=(12, 8))\n",
        "pandas_region_popularity.plot(kind='bar', x='region', y='avg_popularity', color='purple')\n",
        "plt.title('Average Popularity by Region')\n",
        "plt.xlabel('Region')\n",
        "plt.ylabel('Average Popularity')\n",
        "plt.xticks(rotation=45)\n",
        "plt.show()"
      ]
    },
    {
      "cell_type": "markdown",
      "metadata": {
        "id": "NbFGJHu5-qYh"
      },
      "source": [
        "### Energy vs Loudness"
      ]
    },
    {
      "cell_type": "code",
      "execution_count": null,
      "metadata": {
        "id": "ytgZutEK-tQq"
      },
      "outputs": [],
      "source": [
        "energy_loudness = df.select(\n",
        "    col(\"af_energy\"),\n",
        "    col(\"af_loudness\")\n",
        ").na.drop().sample(fraction=0.1)\n",
        "\n",
        "pandas_energy_loudness = energy_loudness.toPandas()\n",
        "\n",
        "# Plotting\n",
        "plt.figure(figsize=(10, 6))\n",
        "plt.scatter(pandas_energy_loudness['af_energy'], pandas_energy_loudness['af_loudness'], alpha=0.5)\n",
        "plt.title('Energy vs Loudness of Tracks')\n",
        "plt.xlabel('Energy')\n",
        "plt.ylabel('Loudness (dB)')\n",
        "plt.grid(True)\n",
        "plt.show()"
      ]
    },
    {
      "cell_type": "markdown",
      "metadata": {
        "id": "EIDTX9At_EFa"
      },
      "source": [
        "###Tempo vs Danceability"
      ]
    },
    {
      "cell_type": "code",
      "execution_count": null,
      "metadata": {
        "id": "MpoTi69D_GXr"
      },
      "outputs": [],
      "source": [
        "tempo_danceability = df.select(\n",
        "    col(\"af_tempo\"),\n",
        "    col(\"af_danceability\")\n",
        ").na.drop().sample(fraction=0.1)\n",
        "\n",
        "pandas_tempo_danceability = tempo_danceability.toPandas()\n",
        "\n",
        "# Plotting\n",
        "plt.figure(figsize=(10, 6))\n",
        "plt.scatter(pandas_tempo_danceability['af_tempo'], pandas_tempo_danceability['af_danceability'], alpha=0.5, color='blue')\n",
        "plt.title('Tempo vs Danceability')\n",
        "plt.xlabel('Tempo (Beats per Minute)')\n",
        "plt.ylabel('Danceability')\n",
        "plt.grid(True)\n",
        "plt.show()"
      ]
    },
    {
      "cell_type": "markdown",
      "metadata": {
        "id": "kiFpjDnWAQIj"
      },
      "source": [
        "###Valence vs Acousticness"
      ]
    },
    {
      "cell_type": "code",
      "execution_count": null,
      "metadata": {
        "id": "ujzfwguKASnD"
      },
      "outputs": [],
      "source": [
        "valence_acousticness = df.select(\n",
        "    col(\"af_valence\"),\n",
        "    col(\"af_acousticness\")\n",
        ").na.drop().sample(fraction=0.1)\n",
        "\n",
        "pandas_valence_acousticness = valence_acousticness.toPandas()\n",
        "\n",
        "# Plotting\n",
        "plt.figure(figsize=(10, 6))\n",
        "plt.scatter(pandas_valence_acousticness['af_valence'], pandas_valence_acousticness['af_acousticness'], alpha=0.5, color='magenta')\n",
        "plt.title('Valence vs Acousticness')\n",
        "plt.xlabel('Valence')\n",
        "plt.ylabel('Acousticness')\n",
        "plt.grid(True)\n",
        "plt.show()"
      ]
    },
    {
      "cell_type": "markdown",
      "metadata": {
        "id": "EAJj0w9oAigy"
      },
      "source": [
        "### Popularity by Release Year"
      ]
    },
    {
      "cell_type": "code",
      "execution_count": null,
      "metadata": {
        "id": "jqsFuV1XAnBs"
      },
      "outputs": [],
      "source": [
        "from pyspark.sql.functions import year\n",
        "\n",
        "popularity_year = df.select(\n",
        "    year(col(\"release_date\")).alias(\"release_year\"),\n",
        "    col(\"popularity\")\n",
        ").na.drop().sample(fraction=0.3)\n",
        "\n",
        "pandas_popularity_year = popularity_year.toPandas()\n",
        "\n",
        "# Plotting\n",
        "plt.figure(figsize=(12, 8))\n",
        "plt.scatter(pandas_popularity_year['release_year'], pandas_popularity_year['popularity'], alpha=0.5, color='orange')\n",
        "plt.title('Popularity by Release Year')\n",
        "plt.xlabel('Release Year')\n",
        "plt.ylabel('Popularity')\n",
        "plt.grid(True)\n",
        "plt.show()"
      ]
    }
  ],
  "metadata": {
    "accelerator": "TPU",
    "colab": {
      "gpuType": "V28",
      "provenance": []
    },
    "kernelspec": {
      "display_name": "Python 3",
      "name": "python3"
    },
    "language_info": {
      "name": "python"
    }
  },
  "nbformat": 4,
  "nbformat_minor": 0
}