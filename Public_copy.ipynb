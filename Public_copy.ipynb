{
 "cells": [
  {
   "cell_type": "markdown",
   "id": "314f0d67-46c6-4319-85d4-2c6606600f83",
   "metadata": {},
   "source": [
    "# Public_copy.ipynb\n",
    "A public copy of \"Private_notebook.ipynb\" (may not yet be fully updated). If any fellow groupmates happen to be viewing this notebook, feel free to replace it with a copy of the most up-to-date version of \"Private_notebook.ipynb\" (if it is different) and make any edits you like."
   ]
  },
  {
   "cell_type": "code",
   "execution_count": 1,
   "id": "c543e69b-5d8a-4afc-9aad-f36e75a965b5",
   "metadata": {},
   "outputs": [],
   "source": [
    "import pyspark.sql as ps"
   ]
  },
  {
   "cell_type": "code",
   "execution_count": 2,
   "id": "902e1c1b-199a-405b-ba18-e223e187ae28",
   "metadata": {},
   "outputs": [],
   "source": [
    "sc = ps.SparkSession.builder \\\n",
    "    .config(\"spark.driver.memory\", \"2g\") \\\n",
    "\t.config(\"spark.executor.memory\", \"2g\") \\\n",
    "    .config('spark.executor.instances', 4) \\\n",
    "\t.appName(\"Data Exploration\") \\\n",
    "\t.getOrCreate()"
   ]
  },
  {
   "cell_type": "markdown",
   "id": "b963abbe-2be3-4888-ac26-3be2af1e182c",
   "metadata": {},
   "source": [
    "# Data Exploration"
   ]
  },
  {
   "cell_type": "markdown",
   "id": "c5989b35-04d3-4ff7-b99c-8825cfbe0941",
   "metadata": {},
   "source": [
    "## Preliminary Exploration"
   ]
  },
  {
   "cell_type": "code",
   "execution_count": 3,
   "id": "616506ad-bd70-4f47-8296-fb450e4e77de",
   "metadata": {},
   "outputs": [
    {
     "name": "stdout",
     "output_type": "stream",
     "text": [
      "root\n",
      " |-- _c0: string (nullable = true)\n",
      " |-- title: string (nullable = true)\n",
      " |-- rank: string (nullable = true)\n",
      " |-- date: string (nullable = true)\n",
      " |-- artist: string (nullable = true)\n",
      " |-- url: string (nullable = true)\n",
      " |-- region: string (nullable = true)\n",
      " |-- chart: string (nullable = true)\n",
      " |-- trend: string (nullable = true)\n",
      " |-- streams: string (nullable = true)\n",
      " |-- track_id: string (nullable = true)\n",
      " |-- album: string (nullable = true)\n",
      " |-- popularity: string (nullable = true)\n",
      " |-- duration_ms: string (nullable = true)\n",
      " |-- explicit: string (nullable = true)\n",
      " |-- release_date: string (nullable = true)\n",
      " |-- available_markets: string (nullable = true)\n",
      " |-- af_danceability: string (nullable = true)\n",
      " |-- af_energy: string (nullable = true)\n",
      " |-- af_key: string (nullable = true)\n",
      " |-- af_loudness: string (nullable = true)\n",
      " |-- af_mode: string (nullable = true)\n",
      " |-- af_speechiness: string (nullable = true)\n",
      " |-- af_acousticness: string (nullable = true)\n",
      " |-- af_instrumentalness: string (nullable = true)\n",
      " |-- af_liveness: string (nullable = true)\n",
      " |-- af_valence: string (nullable = true)\n",
      " |-- af_tempo: string (nullable = true)\n",
      " |-- af_time_signature: string (nullable = true)\n",
      "\n"
     ]
    }
   ],
   "source": [
    "# Inspect schema of an initial load of the data.\n",
    "\n",
    "rawload = sc.read.csv('merged_data.csv', header = True)\n",
    "rawload.printSchema()"
   ]
  },
  {
   "cell_type": "code",
   "execution_count": 4,
   "id": "86888ffa-fded-4890-bb32-6cb004e443a1",
   "metadata": {},
   "outputs": [
    {
     "data": {
      "text/plain": [
       "[Row(_c0='0', title='Chantaje (feat. Maluma)', rank='1', date='2017-01-01', artist='Shakira', url='https://open.spotify.com/track/6mICuAdrwEjh6Y6lroV2Kg', region='Argentina', chart='top200', trend='SAME_POSITION', streams='253019.0', track_id='6mICuAdrwEjh6Y6lroV2Kg', album='El Dorado', popularity='78.0', duration_ms='195840.0', explicit='False', release_date='2017-05-26', available_markets=\"['AR', 'AU', 'AT', 'BE', 'BO', 'BR', 'BG', 'CA', 'CL', 'CO', 'CR', 'CY', 'CZ', 'DK', 'DO', 'DE', 'EC', 'EE', 'SV', 'FI', 'FR', 'GR', 'GT', 'HN', 'HK', 'HU', 'IS', 'IE', 'IT', 'LV', 'LT', 'LU', 'MY', 'MT', 'MX', 'NL', 'NZ', 'NI', 'NO', 'PA', 'PY', 'PE', 'PH', 'PL', 'PT', 'SG', 'SK', 'ES', 'SE', 'CH', 'TW', 'TR', 'UY', 'US', 'GB', 'AD', 'LI', 'MC', 'ID', 'JP', 'TH', 'VN', 'RO', 'IL', 'ZA', 'SA', 'AE', 'BH', 'QA', 'OM', 'KW', 'EG', 'MA', 'DZ', 'TN', 'LB', 'JO', 'PS', 'IN', 'BY', 'KZ', 'MD', 'UA', 'AL', 'BA', 'HR', 'ME', 'MK', 'RS', 'SI', 'KR', 'BD', 'PK', 'LK', 'GH', 'KE', 'NG', 'TZ', 'UG', 'AG', 'AM', 'BS', 'BB', 'BZ', 'BT', 'BW', 'BF', 'CV', 'CW', 'DM', 'FJ', 'GM', 'GE', 'GD', 'GW', 'GY', 'HT', 'JM', 'KI', 'LS', 'LR', 'MW', 'MV', 'ML', 'MH', 'FM', 'NA', 'NR', 'NE', 'PW', 'PG', 'PR', 'WS', 'SM', 'ST', 'SN', 'SC', 'SL', 'SB', 'KN', 'LC', 'VC', 'SR', 'TL', 'TO', 'TT', 'TV', 'VU', 'AZ', 'BN', 'BI', 'KH', 'CM', 'TD', 'KM', 'GQ', 'SZ', 'GA', 'GN', 'KG', 'LA', 'MO', 'MR', 'MN', 'NP', 'RW', 'TG', 'UZ', 'ZW', 'BJ', 'MG', 'MU', 'MZ', 'AO', 'CI', 'DJ', 'ZM', 'CD', 'CG', 'IQ', 'LY', 'TJ', 'VE', 'ET', 'XK']\", af_danceability='0.852', af_energy='0.773', af_key='8.0', af_loudness='-2.921', af_mode='0.0', af_speechiness='0.0776', af_acousticness='0.187', af_instrumentalness='3.05e-05', af_liveness='0.159', af_valence='0.907', af_tempo='102.034', af_time_signature='4.0'),\n",
       " Row(_c0='1', title=\"Vente Pa' Ca (feat. Maluma)\", rank='2', date='2017-01-01', artist='Ricky Martin', url='https://open.spotify.com/track/7DM4BPaS7uofFul3ywMe46', region='Argentina', chart='top200', trend='MOVE_UP', streams='223988.0', track_id='7DM4BPaS7uofFul3ywMe46', album=\"Vente Pa' Ca (feat. Maluma)\", popularity='72.0', duration_ms='259195.0', explicit='False', release_date='2016-09-22', available_markets=\"['AR', 'AU', 'AT', 'BE', 'BO', 'BR', 'BG', 'CA', 'CL', 'CO', 'CR', 'CY', 'CZ', 'DK', 'DO', 'DE', 'EC', 'EE', 'SV', 'FI', 'FR', 'GR', 'GT', 'HN', 'HK', 'HU', 'IS', 'IE', 'IT', 'LV', 'LT', 'LU', 'MY', 'MT', 'MX', 'NL', 'NZ', 'NI', 'NO', 'PA', 'PY', 'PE', 'PH', 'PL', 'PT', 'SG', 'SK', 'ES', 'SE', 'CH', 'TW', 'TR', 'UY', 'US', 'GB', 'AD', 'LI', 'MC', 'ID', 'JP', 'TH', 'VN', 'RO', 'IL', 'ZA', 'SA', 'AE', 'BH', 'QA', 'OM', 'KW', 'EG', 'MA', 'DZ', 'TN', 'LB', 'JO', 'PS', 'IN', 'BY', 'KZ', 'MD', 'UA', 'AL', 'BA', 'HR', 'ME', 'MK', 'RS', 'SI', 'KR', 'BD', 'PK', 'LK', 'GH', 'KE', 'NG', 'TZ', 'UG', 'AG', 'AM', 'BS', 'BB', 'BZ', 'BT', 'BW', 'BF', 'CV', 'CW', 'DM', 'FJ', 'GM', 'GE', 'GD', 'GW', 'GY', 'HT', 'JM', 'KI', 'LS', 'LR', 'MW', 'MV', 'ML', 'MH', 'FM', 'NA', 'NR', 'NE', 'PW', 'PG', 'PR', 'WS', 'SM', 'ST', 'SN', 'SC', 'SL', 'SB', 'KN', 'LC', 'VC', 'SR', 'TL', 'TO', 'TT', 'TV', 'VU', 'AZ', 'BN', 'BI', 'KH', 'CM', 'TD', 'KM', 'GQ', 'SZ', 'GA', 'GN', 'KG', 'LA', 'MO', 'MR', 'MN', 'NP', 'RW', 'TG', 'UZ', 'ZW', 'BJ', 'MG', 'MU', 'MZ', 'AO', 'CI', 'DJ', 'ZM', 'CD', 'CG', 'IQ', 'LY', 'TJ', 'VE', 'ET', 'XK']\", af_danceability='0.663', af_energy='0.92', af_key='11.0', af_loudness='-4.07', af_mode='0.0', af_speechiness='0.226', af_acousticness='0.00431', af_instrumentalness='1.69e-05', af_liveness='0.101', af_valence='0.533', af_tempo='99.935', af_time_signature='4.0'),\n",
       " Row(_c0='2', title='Reggaetón Lento (Bailemos)', rank='3', date='2017-01-01', artist='CNCO', url='https://open.spotify.com/track/3AEZUABDXNtecAOSC1qTfo', region='Argentina', chart='top200', trend='MOVE_DOWN', streams='210943.0', track_id='3AEZUABDXNtecAOSC1qTfo', album='Primera Cita', popularity='73.0', duration_ms='222560.0', explicit='False', release_date='2016-08-26', available_markets=\"['AR', 'AU', 'AT', 'BE', 'BO', 'BG', 'CA', 'CL', 'CO', 'CR', 'CY', 'CZ', 'DK', 'DO', 'DE', 'EC', 'EE', 'SV', 'FI', 'FR', 'GR', 'GT', 'HN', 'HK', 'HU', 'IS', 'IE', 'IT', 'LV', 'LT', 'LU', 'MY', 'MT', 'MX', 'NL', 'NZ', 'NI', 'NO', 'PA', 'PY', 'PE', 'PH', 'PL', 'PT', 'SG', 'SK', 'ES', 'SE', 'CH', 'TW', 'TR', 'UY', 'US', 'GB', 'AD', 'LI', 'MC', 'ID', 'JP', 'TH', 'VN', 'RO', 'IL', 'ZA', 'SA', 'AE', 'BH', 'QA', 'OM', 'KW', 'EG', 'MA', 'DZ', 'TN', 'LB', 'JO', 'PS', 'IN', 'BY', 'KZ', 'MD', 'UA', 'AL', 'BA', 'HR', 'ME', 'MK', 'RS', 'SI', 'KR', 'BD', 'PK', 'LK', 'GH', 'KE', 'NG', 'TZ', 'UG', 'AG', 'AM', 'BS', 'BB', 'BZ', 'BT', 'BW', 'BF', 'CV', 'CW', 'DM', 'FJ', 'GM', 'GE', 'GD', 'GW', 'GY', 'HT', 'JM', 'KI', 'LS', 'LR', 'MW', 'MV', 'ML', 'MH', 'FM', 'NA', 'NR', 'NE', 'PW', 'PG', 'PR', 'WS', 'SM', 'ST', 'SN', 'SC', 'SL', 'SB', 'KN', 'LC', 'VC', 'SR', 'TL', 'TO', 'TT', 'TV', 'VU', 'AZ', 'BN', 'BI', 'KH', 'CM', 'TD', 'KM', 'GQ', 'SZ', 'GA', 'GN', 'KG', 'LA', 'MO', 'MR', 'MN', 'NP', 'RW', 'TG', 'UZ', 'ZW', 'BJ', 'MG', 'MU', 'MZ', 'AO', 'CI', 'DJ', 'ZM', 'CD', 'CG', 'IQ', 'LY', 'TJ', 'VE', 'ET', 'XK']\", af_danceability='0.761', af_energy='0.838', af_key='4.0', af_loudness='-3.073', af_mode='0.0', af_speechiness='0.0502', af_acousticness='0.4', af_instrumentalness='0.0', af_liveness='0.176', af_valence='0.71', af_tempo='93.974', af_time_signature='4.0'),\n",
       " Row(_c0='3', title='Safari', rank='4', date='2017-01-01', artist='J Balvin, Pharrell Williams, BIA, Sky', url='https://open.spotify.com/track/6rQSrBHf7HlZjtcMZ4S4bO', region='Argentina', chart='top200', trend='SAME_POSITION', streams='173865.0', track_id='6rQSrBHf7HlZjtcMZ4S4bO', album='Energía', popularity='0.0', duration_ms='205600.0', explicit='False', release_date='2016-06-24', available_markets='[]', af_danceability='0.508', af_energy='0.687', af_key='0.0', af_loudness='-4.361', af_mode='1.0', af_speechiness='0.326', af_acousticness='0.551', af_instrumentalness='3.41e-06', af_liveness='0.126', af_valence='0.555', af_tempo='180.044', af_time_signature='4.0'),\n",
       " Row(_c0='4', title='Shaky Shaky', rank='5', date='2017-01-01', artist='Daddy Yankee', url='https://open.spotify.com/track/58IL315gMSTD37DOZPJ2hf', region='Argentina', chart='top200', trend='MOVE_UP', streams='153956.0', track_id='58IL315gMSTD37DOZPJ2hf', album='Shaky Shaky', popularity='0.0', duration_ms='234320.0', explicit='False', release_date='2016-04-08', available_markets='[]', af_danceability='0.899', af_energy='0.626', af_key='6.0', af_loudness='-4.228', af_mode='0.0', af_speechiness='0.292', af_acousticness='0.076', af_instrumentalness='0.0', af_liveness='0.0631', af_valence='0.873', af_tempo='88.007', af_time_signature='4.0')]"
      ]
     },
     "execution_count": 4,
     "metadata": {},
     "output_type": "execute_result"
    }
   ],
   "source": [
    "# Show the first 5 rows of raw data\n",
    "rawload.head(5)"
   ]
  },
  {
   "cell_type": "code",
   "execution_count": 5,
   "id": "77423a51-b811-40cf-9d04-5bf09299913b",
   "metadata": {},
   "outputs": [],
   "source": [
    "# Rename the first column, which refers to a primary key that was blandly named '_c0' by default.\n",
    "\n",
    "df = rawload.withColumnRenamed('_c0', 'ID')"
   ]
  },
  {
   "cell_type": "code",
   "execution_count": 6,
   "id": "c3c8a919-c298-4482-a32d-1f70a3b95266",
   "metadata": {},
   "outputs": [
    {
     "name": "stdout",
     "output_type": "stream",
     "text": [
      "There are 26174269 observations in this dataset.\n"
     ]
    }
   ],
   "source": [
    "# Count observations in the dataset.\n",
    "\n",
    "df_ct = df.count()\n",
    "print(f'There are {df_ct} observations in this dataset.')"
   ]
  },
  {
   "cell_type": "markdown",
   "id": "28e4db54-a461-4359-a58d-0e4bc22b4006",
   "metadata": {},
   "source": [
    "## Getting Summary Statistics for Numeric Attributes"
   ]
  },
  {
   "cell_type": "code",
   "execution_count": 7,
   "id": "a46c748d-e491-4ad0-8753-ef566230ba46",
   "metadata": {},
   "outputs": [
    {
     "name": "stdout",
     "output_type": "stream",
     "text": [
      "SAMPLE OBSERVATION:\n",
      "\n",
      "[Row(ID='0', title='Chantaje (feat. Maluma)', rank='1', date='2017-01-01', artist='Shakira', url='https://open.spotify.com/track/6mICuAdrwEjh6Y6lroV2Kg', region='Argentina', chart='top200', trend='SAME_POSITION', streams='253019.0', track_id='6mICuAdrwEjh6Y6lroV2Kg', album='El Dorado', popularity='78.0', duration_ms='195840.0', explicit='False', release_date='2017-05-26', available_markets=\"['AR', 'AU', 'AT', 'BE', 'BO', 'BR', 'BG', 'CA', 'CL', 'CO', 'CR', 'CY', 'CZ', 'DK', 'DO', 'DE', 'EC', 'EE', 'SV', 'FI', 'FR', 'GR', 'GT', 'HN', 'HK', 'HU', 'IS', 'IE', 'IT', 'LV', 'LT', 'LU', 'MY', 'MT', 'MX', 'NL', 'NZ', 'NI', 'NO', 'PA', 'PY', 'PE', 'PH', 'PL', 'PT', 'SG', 'SK', 'ES', 'SE', 'CH', 'TW', 'TR', 'UY', 'US', 'GB', 'AD', 'LI', 'MC', 'ID', 'JP', 'TH', 'VN', 'RO', 'IL', 'ZA', 'SA', 'AE', 'BH', 'QA', 'OM', 'KW', 'EG', 'MA', 'DZ', 'TN', 'LB', 'JO', 'PS', 'IN', 'BY', 'KZ', 'MD', 'UA', 'AL', 'BA', 'HR', 'ME', 'MK', 'RS', 'SI', 'KR', 'BD', 'PK', 'LK', 'GH', 'KE', 'NG', 'TZ', 'UG', 'AG', 'AM', 'BS', 'BB', 'BZ', 'BT', 'BW', 'BF', 'CV', 'CW', 'DM', 'FJ', 'GM', 'GE', 'GD', 'GW', 'GY', 'HT', 'JM', 'KI', 'LS', 'LR', 'MW', 'MV', 'ML', 'MH', 'FM', 'NA', 'NR', 'NE', 'PW', 'PG', 'PR', 'WS', 'SM', 'ST', 'SN', 'SC', 'SL', 'SB', 'KN', 'LC', 'VC', 'SR', 'TL', 'TO', 'TT', 'TV', 'VU', 'AZ', 'BN', 'BI', 'KH', 'CM', 'TD', 'KM', 'GQ', 'SZ', 'GA', 'GN', 'KG', 'LA', 'MO', 'MR', 'MN', 'NP', 'RW', 'TG', 'UZ', 'ZW', 'BJ', 'MG', 'MU', 'MZ', 'AO', 'CI', 'DJ', 'ZM', 'CD', 'CG', 'IQ', 'LY', 'TJ', 'VE', 'ET', 'XK']\", af_danceability='0.852', af_energy='0.773', af_key='8.0', af_loudness='-2.921', af_mode='0.0', af_speechiness='0.0776', af_acousticness='0.187', af_instrumentalness='3.05e-05', af_liveness='0.159', af_valence='0.907', af_tempo='102.034', af_time_signature='4.0')]\n"
     ]
    }
   ],
   "source": [
    "# As the above schema shows, all attributes assume the string type, even though many of them are numeric. View a\n",
    "# single observation to determine which attributes are numeric.\n",
    "\n",
    "print(f'SAMPLE OBSERVATION:\\n\\n{df.take(1)}')"
   ]
  },
  {
   "cell_type": "code",
   "execution_count": 8,
   "id": "36d01a08-fdbd-4930-a8b0-0e52a3f6933d",
   "metadata": {},
   "outputs": [
    {
     "name": "stdout",
     "output_type": "stream",
     "text": [
      "+---+----+--------+----------+-----------+---------------+---------+------+-----------+-------+--------------+---------------+-------------------+-----------+----------+--------+-----------------+\n",
      "| ID|rank| streams|popularity|duration_ms|af_danceability|af_energy|af_key|af_loudness|af_mode|af_speechiness|af_acousticness|af_instrumentalness|af_liveness|af_valence|af_tempo|af_time_signature|\n",
      "+---+----+--------+----------+-----------+---------------+---------+------+-----------+-------+--------------+---------------+-------------------+-----------+----------+--------+-----------------+\n",
      "|  0|   1|253019.0|      78.0|   195840.0|          0.852|    0.773|   8.0|     -2.921|    0.0|        0.0776|          0.187|           3.05e-05|      0.159|     0.907| 102.034|              4.0|\n",
      "|  1|   2|223988.0|      72.0|   259195.0|          0.663|     0.92|  11.0|      -4.07|    0.0|         0.226|        0.00431|           1.69e-05|      0.101|     0.533|  99.935|              4.0|\n",
      "|  2|   3|210943.0|      73.0|   222560.0|          0.761|    0.838|   4.0|     -3.073|    0.0|        0.0502|            0.4|                0.0|      0.176|      0.71|  93.974|              4.0|\n",
      "|  3|   4|173865.0|       0.0|   205600.0|          0.508|    0.687|   0.0|     -4.361|    1.0|         0.326|          0.551|           3.41e-06|      0.126|     0.555| 180.044|              4.0|\n",
      "|  4|   5|153956.0|       0.0|   234320.0|          0.899|    0.626|   6.0|     -4.228|    0.0|         0.292|          0.076|                0.0|     0.0631|     0.873|  88.007|              4.0|\n",
      "+---+----+--------+----------+-----------+---------------+---------+------+-----------+-------+--------------+---------------+-------------------+-----------+----------+--------+-----------------+\n",
      "only showing top 5 rows\n",
      "\n"
     ]
    }
   ],
   "source": [
    "# Evaluating the above observation allows us to establish which attributes are numeric.\n",
    "\n",
    "numeric_attributes = ['ID', 'rank', 'streams', 'popularity', 'duration_ms', 'af_danceability', 'af_energy',\n",
    "                      'af_key', 'af_loudness', 'af_mode', 'af_speechiness', 'af_acousticness',\n",
    "                      'af_instrumentalness', 'af_liveness', 'af_valence', 'af_tempo',  'af_time_signature']\n",
    "df[numeric_attributes].show(5)"
   ]
  },
  {
   "cell_type": "code",
   "execution_count": 9,
   "id": "99031f1c-b5b7-4177-9ab9-c2d0f526c13c",
   "metadata": {},
   "outputs": [],
   "source": [
    "# We'll have to cast numeric attributes to floats to explore these attributes.\n",
    "\n",
    "df = df.withColumns(dict(zip(numeric_attributes, [df[attribute].cast('float') for attribute in\n",
    "                                                  numeric_attributes])))"
   ]
  },
  {
   "cell_type": "code",
   "execution_count": 10,
   "id": "2c1227f1-4632-4334-af3c-30a7da897827",
   "metadata": {},
   "outputs": [
    {
     "name": "stdout",
     "output_type": "stream",
     "text": [
      "UPDATED SCHEMA:\n",
      "\n",
      "root\n",
      " |-- ID: float (nullable = true)\n",
      " |-- title: string (nullable = true)\n",
      " |-- rank: float (nullable = true)\n",
      " |-- date: string (nullable = true)\n",
      " |-- artist: string (nullable = true)\n",
      " |-- url: string (nullable = true)\n",
      " |-- region: string (nullable = true)\n",
      " |-- chart: string (nullable = true)\n",
      " |-- trend: string (nullable = true)\n",
      " |-- streams: float (nullable = true)\n",
      " |-- track_id: string (nullable = true)\n",
      " |-- album: string (nullable = true)\n",
      " |-- popularity: float (nullable = true)\n",
      " |-- duration_ms: float (nullable = true)\n",
      " |-- explicit: string (nullable = true)\n",
      " |-- release_date: string (nullable = true)\n",
      " |-- available_markets: string (nullable = true)\n",
      " |-- af_danceability: float (nullable = true)\n",
      " |-- af_energy: float (nullable = true)\n",
      " |-- af_key: float (nullable = true)\n",
      " |-- af_loudness: float (nullable = true)\n",
      " |-- af_mode: float (nullable = true)\n",
      " |-- af_speechiness: float (nullable = true)\n",
      " |-- af_acousticness: float (nullable = true)\n",
      " |-- af_instrumentalness: float (nullable = true)\n",
      " |-- af_liveness: float (nullable = true)\n",
      " |-- af_valence: float (nullable = true)\n",
      " |-- af_tempo: float (nullable = true)\n",
      " |-- af_time_signature: float (nullable = true)\n",
      "\n",
      "\n",
      "\n",
      "SAMPLE OBSERVATION:\n",
      "\n",
      "[Row(ID=0.0, title='Chantaje (feat. Maluma)', rank=1.0, date='2017-01-01', artist='Shakira', url='https://open.spotify.com/track/6mICuAdrwEjh6Y6lroV2Kg', region='Argentina', chart='top200', trend='SAME_POSITION', streams=253019.0, track_id='6mICuAdrwEjh6Y6lroV2Kg', album='El Dorado', popularity=78.0, duration_ms=195840.0, explicit='False', release_date='2017-05-26', available_markets=\"['AR', 'AU', 'AT', 'BE', 'BO', 'BR', 'BG', 'CA', 'CL', 'CO', 'CR', 'CY', 'CZ', 'DK', 'DO', 'DE', 'EC', 'EE', 'SV', 'FI', 'FR', 'GR', 'GT', 'HN', 'HK', 'HU', 'IS', 'IE', 'IT', 'LV', 'LT', 'LU', 'MY', 'MT', 'MX', 'NL', 'NZ', 'NI', 'NO', 'PA', 'PY', 'PE', 'PH', 'PL', 'PT', 'SG', 'SK', 'ES', 'SE', 'CH', 'TW', 'TR', 'UY', 'US', 'GB', 'AD', 'LI', 'MC', 'ID', 'JP', 'TH', 'VN', 'RO', 'IL', 'ZA', 'SA', 'AE', 'BH', 'QA', 'OM', 'KW', 'EG', 'MA', 'DZ', 'TN', 'LB', 'JO', 'PS', 'IN', 'BY', 'KZ', 'MD', 'UA', 'AL', 'BA', 'HR', 'ME', 'MK', 'RS', 'SI', 'KR', 'BD', 'PK', 'LK', 'GH', 'KE', 'NG', 'TZ', 'UG', 'AG', 'AM', 'BS', 'BB', 'BZ', 'BT', 'BW', 'BF', 'CV', 'CW', 'DM', 'FJ', 'GM', 'GE', 'GD', 'GW', 'GY', 'HT', 'JM', 'KI', 'LS', 'LR', 'MW', 'MV', 'ML', 'MH', 'FM', 'NA', 'NR', 'NE', 'PW', 'PG', 'PR', 'WS', 'SM', 'ST', 'SN', 'SC', 'SL', 'SB', 'KN', 'LC', 'VC', 'SR', 'TL', 'TO', 'TT', 'TV', 'VU', 'AZ', 'BN', 'BI', 'KH', 'CM', 'TD', 'KM', 'GQ', 'SZ', 'GA', 'GN', 'KG', 'LA', 'MO', 'MR', 'MN', 'NP', 'RW', 'TG', 'UZ', 'ZW', 'BJ', 'MG', 'MU', 'MZ', 'AO', 'CI', 'DJ', 'ZM', 'CD', 'CG', 'IQ', 'LY', 'TJ', 'VE', 'ET', 'XK']\", af_danceability=0.8519999980926514, af_energy=0.7730000019073486, af_key=8.0, af_loudness=-2.9210000038146973, af_mode=0.0, af_speechiness=0.07760000228881836, af_acousticness=0.18700000643730164, af_instrumentalness=3.0499999411404133e-05, af_liveness=0.1589999943971634, af_valence=0.9070000052452087, af_tempo=102.03399658203125, af_time_signature=4.0)]\n"
     ]
    }
   ],
   "source": [
    "# Confirm that type casting was correctly implemented.\n",
    "\n",
    "print('UPDATED SCHEMA:\\n')\n",
    "df.printSchema()\n",
    "print(f'\\n\\nSAMPLE OBSERVATION:\\n\\n{df.take(1)}')"
   ]
  },
  {
   "cell_type": "code",
   "execution_count": 11,
   "id": "24913a51-e6e0-47bc-bda9-851a4849f78a",
   "metadata": {},
   "outputs": [],
   "source": [
    "# Now that we've casted numeric attributes to floats, we can generate summary statistics for them.\n",
    "\n",
    "nas = df[numeric_attributes].describe()"
   ]
  },
  {
   "cell_type": "code",
   "execution_count": 12,
   "id": "521cb609-baf7-48e4-903e-bc6543b28468",
   "metadata": {},
   "outputs": [
    {
     "name": "stdout",
     "output_type": "stream",
     "text": [
      "+-------+-----------------+\n",
      "|summary|               ID|\n",
      "+-------+-----------------+\n",
      "|  count|         26174269|\n",
      "|   mean|      1.3087134E7|\n",
      "| stddev|7555860.770833806|\n",
      "|    min|              0.0|\n",
      "|    max|      2.6174268E7|\n",
      "+-------+-----------------+\n",
      "\n",
      "+-------+------------------+\n",
      "|summary|              rank|\n",
      "+-------+------------------+\n",
      "|  count|          26172127|\n",
      "|   mean|  80.9233979339929|\n",
      "| stddev|59.185732716119134|\n",
      "|    min|               1.0|\n",
      "|    max|             200.0|\n",
      "+-------+------------------+\n",
      "\n",
      "+-------+------------------+\n",
      "|summary|           streams|\n",
      "+-------+------------------+\n",
      "|  count|          20318240|\n",
      "|   mean|55266.480036705936|\n",
      "| stddev|209601.75006362287|\n",
      "|    min|            1001.0|\n",
      "|    max|       1.9749704E7|\n",
      "+-------+------------------+\n",
      "\n",
      "+-------+-----------------+\n",
      "|summary|       popularity|\n",
      "+-------+-----------------+\n",
      "|  count|         25853279|\n",
      "|   mean|46.71695659958646|\n",
      "| stddev|32.81488206233617|\n",
      "|    min|              0.0|\n",
      "|    max|          19176.0|\n",
      "+-------+-----------------+\n",
      "\n"
     ]
    },
    {
     "name": "stderr",
     "output_type": "stream",
     "text": [
      "ERROR:root:Exception while sending command.\n",
      "Traceback (most recent call last):\n",
      "  File \"/usr/local/spark/python/lib/py4j-0.10.9.7-src.zip/py4j/clientserver.py\", line 516, in send_command\n",
      "    raise Py4JNetworkError(\"Answer from Java side is empty\")\n",
      "py4j.protocol.Py4JNetworkError: Answer from Java side is empty\n",
      "\n",
      "During handling of the above exception, another exception occurred:\n",
      "\n",
      "Traceback (most recent call last):\n",
      "  File \"/usr/local/spark/python/lib/py4j-0.10.9.7-src.zip/py4j/java_gateway.py\", line 1038, in send_command\n",
      "    response = connection.send_command(command)\n",
      "               ^^^^^^^^^^^^^^^^^^^^^^^^^^^^^^^^\n",
      "  File \"/usr/local/spark/python/lib/py4j-0.10.9.7-src.zip/py4j/clientserver.py\", line 539, in send_command\n",
      "    raise Py4JNetworkError(\n",
      "py4j.protocol.Py4JNetworkError: Error while sending or receiving\n"
     ]
    },
    {
     "ename": "Py4JError",
     "evalue": "An error occurred while calling o151.showString",
     "output_type": "error",
     "traceback": [
      "\u001b[0;31m---------------------------------------------------------------------------\u001b[0m",
      "\u001b[0;31mPy4JError\u001b[0m                                 Traceback (most recent call last)",
      "Cell \u001b[0;32mIn[12], line 4\u001b[0m\n\u001b[1;32m      1\u001b[0m \u001b[38;5;66;03m# We can display summary statistics in a visually appealing format by implementing the following.\u001b[39;00m\n\u001b[1;32m      3\u001b[0m \u001b[38;5;28;01mfor\u001b[39;00m attribute \u001b[38;5;129;01min\u001b[39;00m numeric_attributes:\n\u001b[0;32m----> 4\u001b[0m     \u001b[43mnas\u001b[49m\u001b[43m[\u001b[49m\u001b[43m[\u001b[49m\u001b[38;5;124;43m'\u001b[39;49m\u001b[38;5;124;43msummary\u001b[39;49m\u001b[38;5;124;43m'\u001b[39;49m\u001b[43m,\u001b[49m\u001b[43m \u001b[49m\u001b[43mattribute\u001b[49m\u001b[43m]\u001b[49m\u001b[43m]\u001b[49m\u001b[38;5;241;43m.\u001b[39;49m\u001b[43mshow\u001b[49m\u001b[43m(\u001b[49m\u001b[43m)\u001b[49m\n",
      "File \u001b[0;32m/usr/local/spark/python/pyspark/sql/dataframe.py:959\u001b[0m, in \u001b[0;36mDataFrame.show\u001b[0;34m(self, n, truncate, vertical)\u001b[0m\n\u001b[1;32m    953\u001b[0m     \u001b[38;5;28;01mraise\u001b[39;00m PySparkTypeError(\n\u001b[1;32m    954\u001b[0m         error_class\u001b[38;5;241m=\u001b[39m\u001b[38;5;124m\"\u001b[39m\u001b[38;5;124mNOT_BOOL\u001b[39m\u001b[38;5;124m\"\u001b[39m,\n\u001b[1;32m    955\u001b[0m         message_parameters\u001b[38;5;241m=\u001b[39m{\u001b[38;5;124m\"\u001b[39m\u001b[38;5;124marg_name\u001b[39m\u001b[38;5;124m\"\u001b[39m: \u001b[38;5;124m\"\u001b[39m\u001b[38;5;124mvertical\u001b[39m\u001b[38;5;124m\"\u001b[39m, \u001b[38;5;124m\"\u001b[39m\u001b[38;5;124marg_type\u001b[39m\u001b[38;5;124m\"\u001b[39m: \u001b[38;5;28mtype\u001b[39m(vertical)\u001b[38;5;241m.\u001b[39m\u001b[38;5;18m__name__\u001b[39m},\n\u001b[1;32m    956\u001b[0m     )\n\u001b[1;32m    958\u001b[0m \u001b[38;5;28;01mif\u001b[39;00m \u001b[38;5;28misinstance\u001b[39m(truncate, \u001b[38;5;28mbool\u001b[39m) \u001b[38;5;129;01mand\u001b[39;00m truncate:\n\u001b[0;32m--> 959\u001b[0m     \u001b[38;5;28mprint\u001b[39m(\u001b[38;5;28;43mself\u001b[39;49m\u001b[38;5;241;43m.\u001b[39;49m\u001b[43m_jdf\u001b[49m\u001b[38;5;241;43m.\u001b[39;49m\u001b[43mshowString\u001b[49m\u001b[43m(\u001b[49m\u001b[43mn\u001b[49m\u001b[43m,\u001b[49m\u001b[43m \u001b[49m\u001b[38;5;241;43m20\u001b[39;49m\u001b[43m,\u001b[49m\u001b[43m \u001b[49m\u001b[43mvertical\u001b[49m\u001b[43m)\u001b[49m)\n\u001b[1;32m    960\u001b[0m \u001b[38;5;28;01melse\u001b[39;00m:\n\u001b[1;32m    961\u001b[0m     \u001b[38;5;28;01mtry\u001b[39;00m:\n",
      "File \u001b[0;32m/usr/local/spark/python/lib/py4j-0.10.9.7-src.zip/py4j/java_gateway.py:1322\u001b[0m, in \u001b[0;36mJavaMember.__call__\u001b[0;34m(self, *args)\u001b[0m\n\u001b[1;32m   1316\u001b[0m command \u001b[38;5;241m=\u001b[39m proto\u001b[38;5;241m.\u001b[39mCALL_COMMAND_NAME \u001b[38;5;241m+\u001b[39m\\\n\u001b[1;32m   1317\u001b[0m     \u001b[38;5;28mself\u001b[39m\u001b[38;5;241m.\u001b[39mcommand_header \u001b[38;5;241m+\u001b[39m\\\n\u001b[1;32m   1318\u001b[0m     args_command \u001b[38;5;241m+\u001b[39m\\\n\u001b[1;32m   1319\u001b[0m     proto\u001b[38;5;241m.\u001b[39mEND_COMMAND_PART\n\u001b[1;32m   1321\u001b[0m answer \u001b[38;5;241m=\u001b[39m \u001b[38;5;28mself\u001b[39m\u001b[38;5;241m.\u001b[39mgateway_client\u001b[38;5;241m.\u001b[39msend_command(command)\n\u001b[0;32m-> 1322\u001b[0m return_value \u001b[38;5;241m=\u001b[39m \u001b[43mget_return_value\u001b[49m\u001b[43m(\u001b[49m\n\u001b[1;32m   1323\u001b[0m \u001b[43m    \u001b[49m\u001b[43manswer\u001b[49m\u001b[43m,\u001b[49m\u001b[43m \u001b[49m\u001b[38;5;28;43mself\u001b[39;49m\u001b[38;5;241;43m.\u001b[39;49m\u001b[43mgateway_client\u001b[49m\u001b[43m,\u001b[49m\u001b[43m \u001b[49m\u001b[38;5;28;43mself\u001b[39;49m\u001b[38;5;241;43m.\u001b[39;49m\u001b[43mtarget_id\u001b[49m\u001b[43m,\u001b[49m\u001b[43m \u001b[49m\u001b[38;5;28;43mself\u001b[39;49m\u001b[38;5;241;43m.\u001b[39;49m\u001b[43mname\u001b[49m\u001b[43m)\u001b[49m\n\u001b[1;32m   1325\u001b[0m \u001b[38;5;28;01mfor\u001b[39;00m temp_arg \u001b[38;5;129;01min\u001b[39;00m temp_args:\n\u001b[1;32m   1326\u001b[0m     \u001b[38;5;28;01mif\u001b[39;00m \u001b[38;5;28mhasattr\u001b[39m(temp_arg, \u001b[38;5;124m\"\u001b[39m\u001b[38;5;124m_detach\u001b[39m\u001b[38;5;124m\"\u001b[39m):\n",
      "File \u001b[0;32m/usr/local/spark/python/pyspark/errors/exceptions/captured.py:179\u001b[0m, in \u001b[0;36mcapture_sql_exception.<locals>.deco\u001b[0;34m(*a, **kw)\u001b[0m\n\u001b[1;32m    177\u001b[0m \u001b[38;5;28;01mdef\u001b[39;00m \u001b[38;5;21mdeco\u001b[39m(\u001b[38;5;241m*\u001b[39ma: Any, \u001b[38;5;241m*\u001b[39m\u001b[38;5;241m*\u001b[39mkw: Any) \u001b[38;5;241m-\u001b[39m\u001b[38;5;241m>\u001b[39m Any:\n\u001b[1;32m    178\u001b[0m     \u001b[38;5;28;01mtry\u001b[39;00m:\n\u001b[0;32m--> 179\u001b[0m         \u001b[38;5;28;01mreturn\u001b[39;00m \u001b[43mf\u001b[49m\u001b[43m(\u001b[49m\u001b[38;5;241;43m*\u001b[39;49m\u001b[43ma\u001b[49m\u001b[43m,\u001b[49m\u001b[43m \u001b[49m\u001b[38;5;241;43m*\u001b[39;49m\u001b[38;5;241;43m*\u001b[39;49m\u001b[43mkw\u001b[49m\u001b[43m)\u001b[49m\n\u001b[1;32m    180\u001b[0m     \u001b[38;5;28;01mexcept\u001b[39;00m Py4JJavaError \u001b[38;5;28;01mas\u001b[39;00m e:\n\u001b[1;32m    181\u001b[0m         converted \u001b[38;5;241m=\u001b[39m convert_exception(e\u001b[38;5;241m.\u001b[39mjava_exception)\n",
      "File \u001b[0;32m/usr/local/spark/python/lib/py4j-0.10.9.7-src.zip/py4j/protocol.py:334\u001b[0m, in \u001b[0;36mget_return_value\u001b[0;34m(answer, gateway_client, target_id, name)\u001b[0m\n\u001b[1;32m    330\u001b[0m             \u001b[38;5;28;01mraise\u001b[39;00m Py4JError(\n\u001b[1;32m    331\u001b[0m                 \u001b[38;5;124m\"\u001b[39m\u001b[38;5;124mAn error occurred while calling \u001b[39m\u001b[38;5;132;01m{0}\u001b[39;00m\u001b[38;5;132;01m{1}\u001b[39;00m\u001b[38;5;132;01m{2}\u001b[39;00m\u001b[38;5;124m. Trace:\u001b[39m\u001b[38;5;130;01m\\n\u001b[39;00m\u001b[38;5;132;01m{3}\u001b[39;00m\u001b[38;5;130;01m\\n\u001b[39;00m\u001b[38;5;124m\"\u001b[39m\u001b[38;5;241m.\u001b[39m\n\u001b[1;32m    332\u001b[0m                 \u001b[38;5;28mformat\u001b[39m(target_id, \u001b[38;5;124m\"\u001b[39m\u001b[38;5;124m.\u001b[39m\u001b[38;5;124m\"\u001b[39m, name, value))\n\u001b[1;32m    333\u001b[0m     \u001b[38;5;28;01melse\u001b[39;00m:\n\u001b[0;32m--> 334\u001b[0m         \u001b[38;5;28;01mraise\u001b[39;00m Py4JError(\n\u001b[1;32m    335\u001b[0m             \u001b[38;5;124m\"\u001b[39m\u001b[38;5;124mAn error occurred while calling \u001b[39m\u001b[38;5;132;01m{0}\u001b[39;00m\u001b[38;5;132;01m{1}\u001b[39;00m\u001b[38;5;132;01m{2}\u001b[39;00m\u001b[38;5;124m\"\u001b[39m\u001b[38;5;241m.\u001b[39m\n\u001b[1;32m    336\u001b[0m             \u001b[38;5;28mformat\u001b[39m(target_id, \u001b[38;5;124m\"\u001b[39m\u001b[38;5;124m.\u001b[39m\u001b[38;5;124m\"\u001b[39m, name))\n\u001b[1;32m    337\u001b[0m \u001b[38;5;28;01melse\u001b[39;00m:\n\u001b[1;32m    338\u001b[0m     \u001b[38;5;28mtype\u001b[39m \u001b[38;5;241m=\u001b[39m answer[\u001b[38;5;241m1\u001b[39m]\n",
      "\u001b[0;31mPy4JError\u001b[0m: An error occurred while calling o151.showString"
     ]
    }
   ],
   "source": [
    "# We can display summary statistics in a visually appealing format by implementing the following.\n",
    "\n",
    "for attribute in numeric_attributes:\n",
    "    nas[['summary', attribute]].show()"
   ]
  },
  {
   "cell_type": "markdown",
   "id": "71a44445-68e9-4164-a0bb-bfbd7e2557cc",
   "metadata": {},
   "source": [
    "## Missing Data"
   ]
  },
  {
   "cell_type": "code",
   "execution_count": null,
   "id": "c68d4d09-e94b-4dc8-a28c-e344fb917713",
   "metadata": {},
   "outputs": [],
   "source": [
    "# Determine how many null values there are per attribute.\n",
    "\n",
    "nulls_dict = {}\n",
    "for attribute in df.columns:\n",
    "    null_IDs = df[['ID']].where(df[attribute].isNull())\n",
    "    nulls_dict[attribute] = (null_IDs, null_IDs.count())\n",
    "    print(f'Attribute \"{attribute}\" contains {nulls_dict[attribute][1]} nulls. {nulls_dict[}')"
   ]
  },
  {
   "cell_type": "code",
   "execution_count": null,
   "id": "c38945e2-1c28-406e-a99d-43d29109f581",
   "metadata": {},
   "outputs": [],
   "source": [
    "#Exploring categorical data\n",
    "\n",
    "categorical_columns = ['region', 'chart', 'trend', 'explicit']\n",
    "for column in categorical_columns:\n",
    "    df.groupBy(column).count().show()"
   ]
  },
  {
   "cell_type": "code",
   "execution_count": null,
   "id": "b6d746b7-17ca-43bc-a504-5a097adb8a11",
   "metadata": {},
   "outputs": [],
   "source": []
  }
 ],
 "metadata": {
  "kernelspec": {
   "display_name": "Python 3 (ipykernel)",
   "language": "python",
   "name": "python3"
  },
  "language_info": {
   "codemirror_mode": {
    "name": "ipython",
    "version": 3
   },
   "file_extension": ".py",
   "mimetype": "text/x-python",
   "name": "python",
   "nbconvert_exporter": "python",
   "pygments_lexer": "ipython3",
   "version": "3.11.6"
  }
 },
 "nbformat": 4,
 "nbformat_minor": 5
}
